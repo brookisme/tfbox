{
 "cells": [
  {
   "cell_type": "markdown",
   "metadata": {},
   "source": [
    "### SPLIT AFRICA DATASET 128\n",
    "\n",
    "I re-ran this notebook until the split was reasonably even between train/validation/test. In a perfect split the `low-med-high rfracs` would all equal 1 and the `block split fracs` would equal the respective `group fracs`.  \n",
    "\n",
    "RESULTS:\n",
    "\n",
    "```\n",
    "-------------------------------------------------------------------------------------\n",
    "block relative split: 0.7015503875968992 0.1996124031007752 0.09883720930232558 0.19875776397515527\n",
    "block split fracs: 0.562111801242236 0.15993788819875776 0.07919254658385093 0.19875776397515527\n",
    "-------------------------------------------------------------------------------------\n",
    "\n",
    "train group frac: 0.5941516555974963\n",
    "* low-med-high rfracs: 1.0020939411588003 0.9951734321859522 1.0218651272330403\n",
    "\n",
    "valid group frac: 0.14080940322041186\n",
    "* low-med-high rfracs: 0.9921465495165993 1.0299155228798504 0.8543516919206738\n",
    "\n",
    "test group frac: 0.07018968894834918\n",
    "* low-med-high rfracs: 1.0154040220265386 1.0182645611266203 0.964089938938565\n",
    "\n",
    "hold_out group frac: 0.19484925223374266\n",
    "* low-med-high rfracs: 0.9937414055683951 0.9865195401044039 1.0515165734345673\n",
    "\n",
    "```\n",
    "\n",
    "NOTES:\n",
    "\n",
    "    1. validation is a little low in group count but that speeds up training. its the test group that matters\n",
    "    2. the low-med-high fracs are good. \n",
    "    3. the hold out group can be used for additional training or additional validation if needed.\n",
    " "
   ]
  },
  {
   "cell_type": "markdown",
   "metadata": {},
   "source": [
    "---"
   ]
  },
  {
   "cell_type": "code",
   "execution_count": 1,
   "metadata": {},
   "outputs": [],
   "source": [
    "import pandas as pd\n",
    "from random import sample"
   ]
  },
  {
   "cell_type": "code",
   "execution_count": 2,
   "metadata": {},
   "outputs": [],
   "source": [
    "WSIZE=128\n",
    "DSET=f'surface-water.africa.win{WSIZE}'\n",
    "NO_DATA_MAX=0.05\n",
    "IDENTS=['group_id','window_index']"
   ]
  },
  {
   "cell_type": "code",
   "execution_count": 3,
   "metadata": {},
   "outputs": [
    {
     "name": "stdout",
     "output_type": "stream",
     "text": [
      "24762 684 24338\n",
      "21278 644 20929\n"
     ]
    },
    {
     "data": {
      "text/html": [
       "<div>\n",
       "<style scoped>\n",
       "    .dataframe tbody tr th:only-of-type {\n",
       "        vertical-align: middle;\n",
       "    }\n",
       "\n",
       "    .dataframe tbody tr th {\n",
       "        vertical-align: top;\n",
       "    }\n",
       "\n",
       "    .dataframe thead th {\n",
       "        text-align: right;\n",
       "    }\n",
       "</style>\n",
       "<table border=\"1\" class=\"dataframe\">\n",
       "  <thead>\n",
       "    <tr style=\"text-align: right;\">\n",
       "      <th></th>\n",
       "      <th>gsw_path</th>\n",
       "      <th>s1_path</th>\n",
       "      <th>block_id</th>\n",
       "      <th>group_id</th>\n",
       "      <th>window_index</th>\n",
       "      <th>window</th>\n",
       "      <th>water</th>\n",
       "      <th>not_water</th>\n",
       "      <th>no_data</th>\n",
       "      <th>dataset</th>\n",
       "    </tr>\n",
       "  </thead>\n",
       "  <tbody>\n",
       "    <tr>\n",
       "      <th>19045</th>\n",
       "      <td>gs://surface-water-public/data/v1/jrc/africa_m...</td>\n",
       "      <td>gs://surface-water-public/data/v1/sentinel_1/a...</td>\n",
       "      <td>block_29_-29</td>\n",
       "      <td>group_29.53_-29.74</td>\n",
       "      <td>9</td>\n",
       "      <td>(256, 128, 128, 128)</td>\n",
       "      <td>0.267944</td>\n",
       "      <td>0.730652</td>\n",
       "      <td>0.001404</td>\n",
       "      <td>africa_mtn</td>\n",
       "    </tr>\n",
       "    <tr>\n",
       "      <th>21744</th>\n",
       "      <td>gs://surface-water-public/data/v1/jrc/africa_m...</td>\n",
       "      <td>gs://surface-water-public/data/v1/sentinel_1/a...</td>\n",
       "      <td>block_25_-30</td>\n",
       "      <td>group_25.55_-30.55</td>\n",
       "      <td>14</td>\n",
       "      <td>(384, 256, 128, 128)</td>\n",
       "      <td>0.571350</td>\n",
       "      <td>0.427917</td>\n",
       "      <td>0.000732</td>\n",
       "      <td>africa_mtn</td>\n",
       "    </tr>\n",
       "    <tr>\n",
       "      <th>3263</th>\n",
       "      <td>gs://surface-water-public/data/v1/jrc/africa/G...</td>\n",
       "      <td>gs://surface-water-public/data/v1/sentinel_1/a...</td>\n",
       "      <td>block_-5_32</td>\n",
       "      <td>group_-5.84_32.75</td>\n",
       "      <td>7</td>\n",
       "      <td>(128, 384, 128, 128)</td>\n",
       "      <td>0.232727</td>\n",
       "      <td>0.760010</td>\n",
       "      <td>0.007263</td>\n",
       "      <td>africa</td>\n",
       "    </tr>\n",
       "  </tbody>\n",
       "</table>\n",
       "</div>"
      ],
      "text/plain": [
       "                                                gsw_path  \\\n",
       "19045  gs://surface-water-public/data/v1/jrc/africa_m...   \n",
       "21744  gs://surface-water-public/data/v1/jrc/africa_m...   \n",
       "3263   gs://surface-water-public/data/v1/jrc/africa/G...   \n",
       "\n",
       "                                                 s1_path      block_id  \\\n",
       "19045  gs://surface-water-public/data/v1/sentinel_1/a...  block_29_-29   \n",
       "21744  gs://surface-water-public/data/v1/sentinel_1/a...  block_25_-30   \n",
       "3263   gs://surface-water-public/data/v1/sentinel_1/a...   block_-5_32   \n",
       "\n",
       "                 group_id  window_index                window     water  \\\n",
       "19045  group_29.53_-29.74             9  (256, 128, 128, 128)  0.267944   \n",
       "21744  group_25.55_-30.55            14  (384, 256, 128, 128)  0.571350   \n",
       "3263    group_-5.84_32.75             7  (128, 384, 128, 128)  0.232727   \n",
       "\n",
       "       not_water   no_data     dataset  \n",
       "19045   0.730652  0.001404  africa_mtn  \n",
       "21744   0.427917  0.000732  africa_mtn  \n",
       "3263    0.760010  0.007263      africa  "
      ]
     },
     "execution_count": 3,
     "metadata": {},
     "output_type": "execute_result"
    }
   ],
   "source": [
    "df=pd.read_csv(f'{DSET}.csv')\n",
    "print(\n",
    "    df.shape[0],\n",
    "    df.drop_duplicates(subset=['block_id']).shape[0],\n",
    "    df.drop_duplicates(subset=IDENTS).shape[0])\n",
    "df=df[df.no_data<=NO_DATA_MAX]\n",
    "print(\n",
    "    df.shape[0],\n",
    "    df.drop_duplicates(subset=['block_id']).shape[0],\n",
    "    df.drop_duplicates(subset=IDENTS).shape[0])\n",
    "df.sample(3)"
   ]
  },
  {
   "cell_type": "markdown",
   "metadata": {},
   "source": [
    "---"
   ]
  },
  {
   "cell_type": "code",
   "execution_count": 4,
   "metadata": {},
   "outputs": [],
   "source": [
    "def water_counter(df,quantiles=[0.15,0.85],labels=['low','medium','high']):\n",
    "    wqs=[0]+[df.water.quantile(q) for q in quantiles]+[1+1e-8]\n",
    "    dfs=[]\n",
    "    for i,l in enumerate(labels):\n",
    "        _df=df.copy()[(df.water>=wqs[i])&(df.water<wqs[i+1])]\n",
    "        _df['water_tag']=l\n",
    "        dfs.append(_df)\n",
    "    return pd.concat(dfs).sample(frac=1)\n",
    "\n",
    "\n",
    "def split_groups(blocks,valid_frac=0.2,test_frac=0.1,hold_out_frac=0.2,relative_frac=True):\n",
    "    if relative_frac:\n",
    "        valid_frac=(1-hold_out_frac)*valid_frac\n",
    "        test_frac=(1-hold_out_frac)*test_frac\n",
    "    nb_blocks=len(blocks)\n",
    "    nb_valid=int(valid_frac*nb_blocks)    \n",
    "    nb_test=int(test_frac*nb_blocks)\n",
    "    nb_hold_out=int(hold_out_frac*nb_blocks)\n",
    "    blocks=sample(blocks,nb_blocks)\n",
    "    valid=blocks[:nb_valid]\n",
    "    test=blocks[nb_valid:nb_valid+nb_test]\n",
    "    hold_out=blocks[nb_valid+nb_test:nb_valid+nb_test+nb_hold_out]\n",
    "    train=blocks[nb_valid+nb_test+nb_hold_out:]\n",
    "    rtotal=len(train)+len(valid)+len(test)\n",
    "    print('block relative split:',len(train)/rtotal,len(valid)/rtotal,len(test)/rtotal,len(hold_out)/nb_blocks)\n",
    "    print('block split fracs:',len(train)/nb_blocks,len(valid)/nb_blocks,len(test)/nb_blocks,len(hold_out)/nb_blocks)\n",
    "    return train, valid, test, hold_out\n",
    "\n",
    "\n",
    "def sub_df(typ,df,blocks,cnt):\n",
    "    \n",
    "    sdf=df.copy()[df.block_id.isin(blocks)]\n",
    "    sdf['data_split']=typ\n",
    "    \n",
    "    sgcnt=sdf.drop_duplicates(subset=IDENTS).shape[0]\n",
    "    frac=sgcnt/cnt\n",
    "    \n",
    "    ltcnt=df[df.water_tag=='low'].shape[0]*frac\n",
    "    mtcnt=df[df.water_tag=='medium'].shape[0]*frac\n",
    "    htcnt=df[df.water_tag=='high'].shape[0]*frac\n",
    "    \n",
    "    sltcnt=sdf[sdf.water_tag=='low'].shape[0]\n",
    "    smtcnt=sdf[sdf.water_tag=='medium'].shape[0]\n",
    "    shtcnt=sdf[sdf.water_tag=='high'].shape[0]\n",
    "    print()\n",
    "    print(f'{typ} group frac:',frac)\n",
    "    print('* low-med-high rfracs:',sltcnt/ltcnt,smtcnt/mtcnt,shtcnt/htcnt)\n",
    "    return sdf\n",
    "    \n",
    "    \n",
    "def df_splitter(df,train, valid, test, hold_out):\n",
    "    cnt=df.drop_duplicates(subset=IDENTS).shape[0]\n",
    "    tdf=sub_df('train',df,train,cnt)    \n",
    "    vdf=sub_df('valid',df,valid,cnt)    \n",
    "    sdf=sub_df('test',df,test,cnt)    \n",
    "    hdf=sub_df('hold_out',df,hold_out,cnt)\n",
    "    df=pd.concat([tdf, vdf, sdf, hdf])\n",
    "    return df"
   ]
  },
  {
   "cell_type": "markdown",
   "metadata": {},
   "source": [
    "---"
   ]
  },
  {
   "cell_type": "code",
   "execution_count": 5,
   "metadata": {},
   "outputs": [],
   "source": [
    "df=water_counter(df)"
   ]
  },
  {
   "cell_type": "code",
   "execution_count": 6,
   "metadata": {},
   "outputs": [],
   "source": [
    "blocks=list(df.block_id.unique())"
   ]
  },
  {
   "cell_type": "code",
   "execution_count": 7,
   "metadata": {},
   "outputs": [
    {
     "name": "stdout",
     "output_type": "stream",
     "text": [
      "-------------------------------------------------------------------------------------\n",
      "block relative split: 0.7015503875968992 0.1996124031007752 0.09883720930232558 0.19875776397515527\n",
      "block split fracs: 0.562111801242236 0.15993788819875776 0.07919254658385093 0.19875776397515527\n",
      "-------------------------------------------------------------------------------------\n",
      "\n",
      "train group frac: 0.5941516555974963\n",
      "* low-med-high rfracs: 1.0020939411588003 0.9951734321859522 1.0218651272330403\n",
      "\n",
      "valid group frac: 0.14080940322041186\n",
      "* low-med-high rfracs: 0.9921465495165993 1.0299155228798504 0.8543516919206738\n",
      "\n",
      "test group frac: 0.07018968894834918\n",
      "* low-med-high rfracs: 1.0154040220265386 1.0182645611266203 0.964089938938565\n",
      "\n",
      "hold_out group frac: 0.19484925223374266\n",
      "* low-med-high rfracs: 0.9937414055683951 0.9865195401044039 1.0515165734345673\n"
     ]
    }
   ],
   "source": [
    "print('-'*85)\n",
    "train, valid, test, hold_out=split_groups(blocks)\n",
    "print('-'*85)\n",
    "df=df_splitter(df, train, valid, test, hold_out)"
   ]
  },
  {
   "cell_type": "markdown",
   "metadata": {},
   "source": [
    "---"
   ]
  },
  {
   "cell_type": "code",
   "execution_count": 8,
   "metadata": {},
   "outputs": [
    {
     "data": {
      "text/html": [
       "<div>\n",
       "<style scoped>\n",
       "    .dataframe tbody tr th:only-of-type {\n",
       "        vertical-align: middle;\n",
       "    }\n",
       "\n",
       "    .dataframe tbody tr th {\n",
       "        vertical-align: top;\n",
       "    }\n",
       "\n",
       "    .dataframe thead th {\n",
       "        text-align: right;\n",
       "    }\n",
       "</style>\n",
       "<table border=\"1\" class=\"dataframe\">\n",
       "  <thead>\n",
       "    <tr style=\"text-align: right;\">\n",
       "      <th></th>\n",
       "      <th>gsw_path</th>\n",
       "      <th>s1_path</th>\n",
       "      <th>block_id</th>\n",
       "      <th>group_id</th>\n",
       "      <th>window_index</th>\n",
       "      <th>window</th>\n",
       "      <th>water</th>\n",
       "      <th>not_water</th>\n",
       "      <th>no_data</th>\n",
       "      <th>dataset</th>\n",
       "      <th>water_tag</th>\n",
       "      <th>data_split</th>\n",
       "    </tr>\n",
       "  </thead>\n",
       "  <tbody>\n",
       "    <tr>\n",
       "      <th>15802</th>\n",
       "      <td>gs://surface-water-public/data/v1/jrc/africa_m...</td>\n",
       "      <td>gs://surface-water-public/data/v1/sentinel_1/a...</td>\n",
       "      <td>block_10_8</td>\n",
       "      <td>group_10.12_8.49</td>\n",
       "      <td>4</td>\n",
       "      <td>(128, 0, 128, 128)</td>\n",
       "      <td>0.017700</td>\n",
       "      <td>0.978638</td>\n",
       "      <td>0.003662</td>\n",
       "      <td>africa_mtn</td>\n",
       "      <td>medium</td>\n",
       "      <td>train</td>\n",
       "    </tr>\n",
       "    <tr>\n",
       "      <th>6939</th>\n",
       "      <td>gs://surface-water-public/data/v1/jrc/africa/G...</td>\n",
       "      <td>gs://surface-water-public/data/v1/sentinel_1/a...</td>\n",
       "      <td>block_31_27</td>\n",
       "      <td>group_31.16_27.22</td>\n",
       "      <td>5</td>\n",
       "      <td>(128, 128, 128, 128)</td>\n",
       "      <td>0.037720</td>\n",
       "      <td>0.962280</td>\n",
       "      <td>0.000000</td>\n",
       "      <td>africa</td>\n",
       "      <td>medium</td>\n",
       "      <td>train</td>\n",
       "    </tr>\n",
       "    <tr>\n",
       "      <th>24040</th>\n",
       "      <td>gs://surface-water-public/data/v1/jrc/africa_s...</td>\n",
       "      <td>gs://surface-water-public/data/v1/sentinel_1/a...</td>\n",
       "      <td>block_32_26</td>\n",
       "      <td>group_32.24_26.06</td>\n",
       "      <td>11</td>\n",
       "      <td>(256, 384, 128, 128)</td>\n",
       "      <td>0.169495</td>\n",
       "      <td>0.830505</td>\n",
       "      <td>0.000000</td>\n",
       "      <td>africa_small</td>\n",
       "      <td>medium</td>\n",
       "      <td>hold_out</td>\n",
       "    </tr>\n",
       "  </tbody>\n",
       "</table>\n",
       "</div>"
      ],
      "text/plain": [
       "                                                gsw_path  \\\n",
       "15802  gs://surface-water-public/data/v1/jrc/africa_m...   \n",
       "6939   gs://surface-water-public/data/v1/jrc/africa/G...   \n",
       "24040  gs://surface-water-public/data/v1/jrc/africa_s...   \n",
       "\n",
       "                                                 s1_path     block_id  \\\n",
       "15802  gs://surface-water-public/data/v1/sentinel_1/a...   block_10_8   \n",
       "6939   gs://surface-water-public/data/v1/sentinel_1/a...  block_31_27   \n",
       "24040  gs://surface-water-public/data/v1/sentinel_1/a...  block_32_26   \n",
       "\n",
       "                group_id  window_index                window     water  \\\n",
       "15802   group_10.12_8.49             4    (128, 0, 128, 128)  0.017700   \n",
       "6939   group_31.16_27.22             5  (128, 128, 128, 128)  0.037720   \n",
       "24040  group_32.24_26.06            11  (256, 384, 128, 128)  0.169495   \n",
       "\n",
       "       not_water   no_data       dataset water_tag data_split  \n",
       "15802   0.978638  0.003662    africa_mtn    medium      train  \n",
       "6939    0.962280  0.000000        africa    medium      train  \n",
       "24040   0.830505  0.000000  africa_small    medium   hold_out  "
      ]
     },
     "execution_count": 8,
     "metadata": {},
     "output_type": "execute_result"
    }
   ],
   "source": [
    "df.sample(3)"
   ]
  },
  {
   "cell_type": "code",
   "execution_count": 9,
   "metadata": {},
   "outputs": [
    {
     "name": "stdout",
     "output_type": "stream",
     "text": [
      "UPLOAD: gsutil cp surface-water.africa.win128.split.csv gs://surface-water-public/data/v1/datasets\n"
     ]
    }
   ],
   "source": [
    "file_name=f'{DSET}.split.csv'\n",
    "df.to_csv(file_name,index=False)\n",
    "print(f'UPLOAD: gsutil cp {file_name} gs://surface-water-public/data/v1/datasets')"
   ]
  },
  {
   "cell_type": "markdown",
   "metadata": {},
   "source": [
    "---"
   ]
  },
  {
   "cell_type": "code",
   "execution_count": 15,
   "metadata": {},
   "outputs": [],
   "source": [
    "# !gsutil cp surface-water.africa.win128.split.csv gs://surface-water-public/data/v1/datasets"
   ]
  },
  {
   "cell_type": "markdown",
   "metadata": {},
   "source": [
    "---"
   ]
  },
  {
   "cell_type": "markdown",
   "metadata": {},
   "source": [
    "##### WATER/NOT RATIO"
   ]
  },
  {
   "cell_type": "code",
   "execution_count": 11,
   "metadata": {},
   "outputs": [],
   "source": [
    "_df=df[df.data_split.isin(['train','valid'])]"
   ]
  },
  {
   "cell_type": "code",
   "execution_count": 12,
   "metadata": {},
   "outputs": [
    {
     "data": {
      "text/plain": [
       "6.78027873317265"
      ]
     },
     "execution_count": 12,
     "metadata": {},
     "output_type": "execute_result"
    }
   ],
   "source": [
    "_df.not_water.mean()/_df.water.mean()"
   ]
  },
  {
   "cell_type": "code",
   "execution_count": 13,
   "metadata": {},
   "outputs": [
    {
     "data": {
      "text/html": [
       "<div>\n",
       "<style scoped>\n",
       "    .dataframe tbody tr th:only-of-type {\n",
       "        vertical-align: middle;\n",
       "    }\n",
       "\n",
       "    .dataframe tbody tr th {\n",
       "        vertical-align: top;\n",
       "    }\n",
       "\n",
       "    .dataframe thead th {\n",
       "        text-align: right;\n",
       "    }\n",
       "</style>\n",
       "<table border=\"1\" class=\"dataframe\">\n",
       "  <thead>\n",
       "    <tr style=\"text-align: right;\">\n",
       "      <th></th>\n",
       "      <th>water</th>\n",
       "      <th>not_water</th>\n",
       "    </tr>\n",
       "  </thead>\n",
       "  <tbody>\n",
       "    <tr>\n",
       "      <th>count</th>\n",
       "      <td>15382.000000</td>\n",
       "      <td>15382.000000</td>\n",
       "    </tr>\n",
       "    <tr>\n",
       "      <th>mean</th>\n",
       "      <td>0.127388</td>\n",
       "      <td>0.867780</td>\n",
       "    </tr>\n",
       "    <tr>\n",
       "      <th>std</th>\n",
       "      <td>0.141102</td>\n",
       "      <td>0.142047</td>\n",
       "    </tr>\n",
       "    <tr>\n",
       "      <th>min</th>\n",
       "      <td>0.005005</td>\n",
       "      <td>0.370117</td>\n",
       "    </tr>\n",
       "    <tr>\n",
       "      <th>25%</th>\n",
       "      <td>0.025162</td>\n",
       "      <td>0.814941</td>\n",
       "    </tr>\n",
       "    <tr>\n",
       "      <th>50%</th>\n",
       "      <td>0.069946</td>\n",
       "      <td>0.924805</td>\n",
       "    </tr>\n",
       "    <tr>\n",
       "      <th>75%</th>\n",
       "      <td>0.178024</td>\n",
       "      <td>0.970093</td>\n",
       "    </tr>\n",
       "    <tr>\n",
       "      <th>max</th>\n",
       "      <td>0.599976</td>\n",
       "      <td>0.994995</td>\n",
       "    </tr>\n",
       "  </tbody>\n",
       "</table>\n",
       "</div>"
      ],
      "text/plain": [
       "              water     not_water\n",
       "count  15382.000000  15382.000000\n",
       "mean       0.127388      0.867780\n",
       "std        0.141102      0.142047\n",
       "min        0.005005      0.370117\n",
       "25%        0.025162      0.814941\n",
       "50%        0.069946      0.924805\n",
       "75%        0.178024      0.970093\n",
       "max        0.599976      0.994995"
      ]
     },
     "execution_count": 13,
     "metadata": {},
     "output_type": "execute_result"
    }
   ],
   "source": [
    "_df.drop_duplicates(subset=IDENTS)[['water','not_water']].describe()"
   ]
  },
  {
   "cell_type": "code",
   "execution_count": null,
   "metadata": {},
   "outputs": [],
   "source": []
  }
 ],
 "metadata": {
  "environment": {
   "name": "tf2-gpu.2-1.m48",
   "type": "gcloud",
   "uri": "gcr.io/deeplearning-platform-release/tf2-gpu.2-1:m48"
  },
  "kernelspec": {
   "display_name": "Python 3",
   "language": "python",
   "name": "python3"
  },
  "language_info": {
   "codemirror_mode": {
    "name": "ipython",
    "version": 3
   },
   "file_extension": ".py",
   "mimetype": "text/x-python",
   "name": "python",
   "nbconvert_exporter": "python",
   "pygments_lexer": "ipython3",
   "version": "3.7.6"
  }
 },
 "nbformat": 4,
 "nbformat_minor": 4
}
