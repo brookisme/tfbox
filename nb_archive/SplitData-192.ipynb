{
 "cells": [
  {
   "cell_type": "markdown",
   "metadata": {},
   "source": [
    "### SPLIT AFRICA DATASET 192\n",
    "\n",
    "I re-ran this notebook until the split was reasonably even between train/validation/test. In a perfect split the `low-med-high rfracs` would all equal 1 and the `block split fracs` would equal the respective `group fracs`.  \n",
    "\n",
    "RESULTS:\n",
    "\n",
    "```\n",
    "-------------------------------------------------------------------------------------\n",
    "block relative split: 0.7 0.2 0.1 0.2\n",
    "block split fracs: 0.56 0.16 0.08 0.2\n",
    "-------------------------------------------------------------------------------------\n",
    "\n",
    "train group frac: 0.5968855788761002\n",
    "* low-med-high rfracs: 1.0010590834202162 1.0090326541013923 0.9630740227527372\n",
    "\n",
    "valid group frac: 0.16086662153012865\n",
    "* low-med-high rfracs: 1.0470768560307566 0.9802220497192033 1.0241252203165399\n",
    "\n",
    "test group frac: 0.07217332430602573\n",
    "* low-med-high rfracs: 1.0072285870158209 0.9754086104574372 1.2026947754658441\n",
    "\n",
    "hold_out group frac: 0.17007447528774544\n",
    "* low-med-high rfracs: 0.9486874350634684 0.997442258185378 1.020758463890597\n",
    "\n",
    "```\n",
    "\n",
    "NOTES:\n",
    "\n",
    "    1. solid split \n",
    "    2. the hold out group can be used for additional training or additional validation if needed.\n",
    " "
   ]
  },
  {
   "cell_type": "markdown",
   "metadata": {},
   "source": [
    "---"
   ]
  },
  {
   "cell_type": "code",
   "execution_count": 1,
   "metadata": {},
   "outputs": [],
   "source": [
    "import pandas as pd\n",
    "from random import sample"
   ]
  },
  {
   "cell_type": "code",
   "execution_count": 2,
   "metadata": {},
   "outputs": [],
   "source": [
    "WSIZE=192\n",
    "DSET=f'surface-water.africa.win{WSIZE}'\n",
    "NO_DATA_MAX=0.05\n",
    "IDENTS=['group_id','window_index']"
   ]
  },
  {
   "cell_type": "code",
   "execution_count": 3,
   "metadata": {},
   "outputs": [
    {
     "name": "stdout",
     "output_type": "stream",
     "text": [
      "8708 632 8541\n",
      "7527 600 7385\n"
     ]
    },
    {
     "data": {
      "text/html": [
       "<div>\n",
       "<style scoped>\n",
       "    .dataframe tbody tr th:only-of-type {\n",
       "        vertical-align: middle;\n",
       "    }\n",
       "\n",
       "    .dataframe tbody tr th {\n",
       "        vertical-align: top;\n",
       "    }\n",
       "\n",
       "    .dataframe thead th {\n",
       "        text-align: right;\n",
       "    }\n",
       "</style>\n",
       "<table border=\"1\" class=\"dataframe\">\n",
       "  <thead>\n",
       "    <tr style=\"text-align: right;\">\n",
       "      <th></th>\n",
       "      <th>gsw_path</th>\n",
       "      <th>s1_path</th>\n",
       "      <th>block_id</th>\n",
       "      <th>group_id</th>\n",
       "      <th>window_index</th>\n",
       "      <th>window</th>\n",
       "      <th>water</th>\n",
       "      <th>not_water</th>\n",
       "      <th>no_data</th>\n",
       "      <th>dataset</th>\n",
       "    </tr>\n",
       "  </thead>\n",
       "  <tbody>\n",
       "    <tr>\n",
       "      <th>1243</th>\n",
       "      <td>gs://surface-water-public/data/v1/jrc/africa/G...</td>\n",
       "      <td>gs://surface-water-public/data/v1/sentinel_1/a...</td>\n",
       "      <td>block_9_31</td>\n",
       "      <td>group_9.19_31.7</td>\n",
       "      <td>2</td>\n",
       "      <td>(192, 0, 192, 192)</td>\n",
       "      <td>0.084283</td>\n",
       "      <td>0.915717</td>\n",
       "      <td>0.000000</td>\n",
       "      <td>africa</td>\n",
       "    </tr>\n",
       "    <tr>\n",
       "      <th>3740</th>\n",
       "      <td>gs://surface-water-public/data/v1/jrc/africa/G...</td>\n",
       "      <td>gs://surface-water-public/data/v1/sentinel_1/a...</td>\n",
       "      <td>block_-15_16</td>\n",
       "      <td>group_-15.89_16.1</td>\n",
       "      <td>1</td>\n",
       "      <td>(0, 192, 192, 192)</td>\n",
       "      <td>0.513699</td>\n",
       "      <td>0.464138</td>\n",
       "      <td>0.022163</td>\n",
       "      <td>africa</td>\n",
       "    </tr>\n",
       "    <tr>\n",
       "      <th>2338</th>\n",
       "      <td>gs://surface-water-public/data/v1/jrc/africa/G...</td>\n",
       "      <td>gs://surface-water-public/data/v1/sentinel_1/a...</td>\n",
       "      <td>block_-1_35</td>\n",
       "      <td>group_-1.23_35.43</td>\n",
       "      <td>2</td>\n",
       "      <td>(192, 0, 192, 192)</td>\n",
       "      <td>0.041178</td>\n",
       "      <td>0.944038</td>\n",
       "      <td>0.014784</td>\n",
       "      <td>africa</td>\n",
       "    </tr>\n",
       "  </tbody>\n",
       "</table>\n",
       "</div>"
      ],
      "text/plain": [
       "                                               gsw_path  \\\n",
       "1243  gs://surface-water-public/data/v1/jrc/africa/G...   \n",
       "3740  gs://surface-water-public/data/v1/jrc/africa/G...   \n",
       "2338  gs://surface-water-public/data/v1/jrc/africa/G...   \n",
       "\n",
       "                                                s1_path      block_id  \\\n",
       "1243  gs://surface-water-public/data/v1/sentinel_1/a...    block_9_31   \n",
       "3740  gs://surface-water-public/data/v1/sentinel_1/a...  block_-15_16   \n",
       "2338  gs://surface-water-public/data/v1/sentinel_1/a...   block_-1_35   \n",
       "\n",
       "               group_id  window_index              window     water  \\\n",
       "1243    group_9.19_31.7             2  (192, 0, 192, 192)  0.084283   \n",
       "3740  group_-15.89_16.1             1  (0, 192, 192, 192)  0.513699   \n",
       "2338  group_-1.23_35.43             2  (192, 0, 192, 192)  0.041178   \n",
       "\n",
       "      not_water   no_data dataset  \n",
       "1243   0.915717  0.000000  africa  \n",
       "3740   0.464138  0.022163  africa  \n",
       "2338   0.944038  0.014784  africa  "
      ]
     },
     "execution_count": 3,
     "metadata": {},
     "output_type": "execute_result"
    }
   ],
   "source": [
    "df=pd.read_csv(f'{DSET}.csv')\n",
    "print(\n",
    "    df.shape[0],\n",
    "    df.drop_duplicates(subset=['block_id']).shape[0],\n",
    "    df.drop_duplicates(subset=IDENTS).shape[0])\n",
    "df=df[df.no_data<=NO_DATA_MAX]\n",
    "print(\n",
    "    df.shape[0],\n",
    "    df.drop_duplicates(subset=['block_id']).shape[0],\n",
    "    df.drop_duplicates(subset=IDENTS).shape[0])\n",
    "df.sample(3)"
   ]
  },
  {
   "cell_type": "markdown",
   "metadata": {},
   "source": [
    "---"
   ]
  },
  {
   "cell_type": "code",
   "execution_count": 4,
   "metadata": {},
   "outputs": [],
   "source": [
    "def water_counter(df,quantiles=[0.15,0.85],labels=['low','medium','high']):\n",
    "    wqs=[0]+[df.water.quantile(q) for q in quantiles]+[1+1e-8]\n",
    "    dfs=[]\n",
    "    for i,l in enumerate(labels):\n",
    "        _df=df.copy()[(df.water>=wqs[i])&(df.water<wqs[i+1])]\n",
    "        _df['water_tag']=l\n",
    "        dfs.append(_df)\n",
    "    return pd.concat(dfs).sample(frac=1)\n",
    "\n",
    "\n",
    "def split_groups(blocks,valid_frac=0.2,test_frac=0.1,hold_out_frac=0.2,relative_frac=True):\n",
    "    if relative_frac:\n",
    "        valid_frac=(1-hold_out_frac)*valid_frac\n",
    "        test_frac=(1-hold_out_frac)*test_frac\n",
    "    nb_blocks=len(blocks)\n",
    "    nb_valid=int(valid_frac*nb_blocks)    \n",
    "    nb_test=int(test_frac*nb_blocks)\n",
    "    nb_hold_out=int(hold_out_frac*nb_blocks)\n",
    "    blocks=sample(blocks,nb_blocks)\n",
    "    valid=blocks[:nb_valid]\n",
    "    test=blocks[nb_valid:nb_valid+nb_test]\n",
    "    hold_out=blocks[nb_valid+nb_test:nb_valid+nb_test+nb_hold_out]\n",
    "    train=blocks[nb_valid+nb_test+nb_hold_out:]\n",
    "    rtotal=len(train)+len(valid)+len(test)\n",
    "    print('block relative split:',len(train)/rtotal,len(valid)/rtotal,len(test)/rtotal,len(hold_out)/nb_blocks)\n",
    "    print('block split fracs:',len(train)/nb_blocks,len(valid)/nb_blocks,len(test)/nb_blocks,len(hold_out)/nb_blocks)\n",
    "    return train, valid, test, hold_out\n",
    "\n",
    "\n",
    "def sub_df(typ,df,blocks,cnt):\n",
    "    \n",
    "    sdf=df.copy()[df.block_id.isin(blocks)]\n",
    "    sdf['data_split']=typ\n",
    "    \n",
    "    sgcnt=sdf.drop_duplicates(subset=IDENTS).shape[0]\n",
    "    frac=sgcnt/cnt\n",
    "    \n",
    "    ltcnt=df[df.water_tag=='low'].shape[0]*frac\n",
    "    mtcnt=df[df.water_tag=='medium'].shape[0]*frac\n",
    "    htcnt=df[df.water_tag=='high'].shape[0]*frac\n",
    "    \n",
    "    sltcnt=sdf[sdf.water_tag=='low'].shape[0]\n",
    "    smtcnt=sdf[sdf.water_tag=='medium'].shape[0]\n",
    "    shtcnt=sdf[sdf.water_tag=='high'].shape[0]\n",
    "    print()\n",
    "    print(f'{typ} group frac:',frac)\n",
    "    print('* low-med-high rfracs:',sltcnt/ltcnt,smtcnt/mtcnt,shtcnt/htcnt)\n",
    "    return sdf\n",
    "    \n",
    "    \n",
    "def df_splitter(df,train, valid, test, hold_out):\n",
    "    cnt=df.drop_duplicates(subset=IDENTS).shape[0]\n",
    "    tdf=sub_df('train',df,train,cnt)    \n",
    "    vdf=sub_df('valid',df,valid,cnt)    \n",
    "    sdf=sub_df('test',df,test,cnt)    \n",
    "    hdf=sub_df('hold_out',df,hold_out,cnt)\n",
    "    df=pd.concat([tdf, vdf, sdf, hdf])\n",
    "    return df"
   ]
  },
  {
   "cell_type": "markdown",
   "metadata": {},
   "source": [
    "---"
   ]
  },
  {
   "cell_type": "code",
   "execution_count": 5,
   "metadata": {},
   "outputs": [],
   "source": [
    "df=water_counter(df)"
   ]
  },
  {
   "cell_type": "code",
   "execution_count": 6,
   "metadata": {},
   "outputs": [],
   "source": [
    "blocks=list(df.block_id.unique())"
   ]
  },
  {
   "cell_type": "code",
   "execution_count": 7,
   "metadata": {},
   "outputs": [
    {
     "name": "stdout",
     "output_type": "stream",
     "text": [
      "-------------------------------------------------------------------------------------\n",
      "block relative split: 0.7 0.2 0.1 0.2\n",
      "block split fracs: 0.56 0.16 0.08 0.2\n",
      "-------------------------------------------------------------------------------------\n",
      "\n",
      "train group frac: 0.5968855788761002\n",
      "* low-med-high rfracs: 1.0010590834202162 1.0090326541013923 0.9630740227527372\n",
      "\n",
      "valid group frac: 0.16086662153012865\n",
      "* low-med-high rfracs: 1.0470768560307566 0.9802220497192033 1.0241252203165399\n",
      "\n",
      "test group frac: 0.07217332430602573\n",
      "* low-med-high rfracs: 1.0072285870158209 0.9754086104574372 1.2026947754658441\n",
      "\n",
      "hold_out group frac: 0.17007447528774544\n",
      "* low-med-high rfracs: 0.9486874350634684 0.997442258185378 1.020758463890597\n"
     ]
    }
   ],
   "source": [
    "print('-'*85)\n",
    "train, valid, test, hold_out=split_groups(blocks)\n",
    "print('-'*85)\n",
    "df=df_splitter(df, train, valid, test, hold_out)"
   ]
  },
  {
   "cell_type": "markdown",
   "metadata": {},
   "source": [
    "---"
   ]
  },
  {
   "cell_type": "code",
   "execution_count": 8,
   "metadata": {},
   "outputs": [
    {
     "data": {
      "text/html": [
       "<div>\n",
       "<style scoped>\n",
       "    .dataframe tbody tr th:only-of-type {\n",
       "        vertical-align: middle;\n",
       "    }\n",
       "\n",
       "    .dataframe tbody tr th {\n",
       "        vertical-align: top;\n",
       "    }\n",
       "\n",
       "    .dataframe thead th {\n",
       "        text-align: right;\n",
       "    }\n",
       "</style>\n",
       "<table border=\"1\" class=\"dataframe\">\n",
       "  <thead>\n",
       "    <tr style=\"text-align: right;\">\n",
       "      <th></th>\n",
       "      <th>gsw_path</th>\n",
       "      <th>s1_path</th>\n",
       "      <th>block_id</th>\n",
       "      <th>group_id</th>\n",
       "      <th>window_index</th>\n",
       "      <th>window</th>\n",
       "      <th>water</th>\n",
       "      <th>not_water</th>\n",
       "      <th>no_data</th>\n",
       "      <th>dataset</th>\n",
       "      <th>water_tag</th>\n",
       "      <th>data_split</th>\n",
       "    </tr>\n",
       "  </thead>\n",
       "  <tbody>\n",
       "    <tr>\n",
       "      <th>6014</th>\n",
       "      <td>gs://surface-water-public/data/v1/jrc/africa_m...</td>\n",
       "      <td>gs://surface-water-public/data/v1/sentinel_1/a...</td>\n",
       "      <td>block_29_-28</td>\n",
       "      <td>group_29.17_-28.68</td>\n",
       "      <td>3</td>\n",
       "      <td>(192, 192, 192, 192)</td>\n",
       "      <td>0.282823</td>\n",
       "      <td>0.708496</td>\n",
       "      <td>0.008681</td>\n",
       "      <td>africa_mtn</td>\n",
       "      <td>high</td>\n",
       "      <td>train</td>\n",
       "    </tr>\n",
       "    <tr>\n",
       "      <th>3512</th>\n",
       "      <td>gs://surface-water-public/data/v1/jrc/africa/G...</td>\n",
       "      <td>gs://surface-water-public/data/v1/sentinel_1/a...</td>\n",
       "      <td>block_19_-33</td>\n",
       "      <td>group_19.16_-33.25</td>\n",
       "      <td>3</td>\n",
       "      <td>(192, 192, 192, 192)</td>\n",
       "      <td>0.026937</td>\n",
       "      <td>0.960097</td>\n",
       "      <td>0.012967</td>\n",
       "      <td>africa</td>\n",
       "      <td>medium</td>\n",
       "      <td>valid</td>\n",
       "    </tr>\n",
       "    <tr>\n",
       "      <th>6940</th>\n",
       "      <td>gs://surface-water-public/data/v1/jrc/africa_m...</td>\n",
       "      <td>gs://surface-water-public/data/v1/sentinel_1/a...</td>\n",
       "      <td>block_29_-31</td>\n",
       "      <td>group_29.22_-31.36</td>\n",
       "      <td>0</td>\n",
       "      <td>(0, 0, 192, 192)</td>\n",
       "      <td>0.034478</td>\n",
       "      <td>0.962972</td>\n",
       "      <td>0.002550</td>\n",
       "      <td>africa_mtn</td>\n",
       "      <td>medium</td>\n",
       "      <td>hold_out</td>\n",
       "    </tr>\n",
       "  </tbody>\n",
       "</table>\n",
       "</div>"
      ],
      "text/plain": [
       "                                               gsw_path  \\\n",
       "6014  gs://surface-water-public/data/v1/jrc/africa_m...   \n",
       "3512  gs://surface-water-public/data/v1/jrc/africa/G...   \n",
       "6940  gs://surface-water-public/data/v1/jrc/africa_m...   \n",
       "\n",
       "                                                s1_path      block_id  \\\n",
       "6014  gs://surface-water-public/data/v1/sentinel_1/a...  block_29_-28   \n",
       "3512  gs://surface-water-public/data/v1/sentinel_1/a...  block_19_-33   \n",
       "6940  gs://surface-water-public/data/v1/sentinel_1/a...  block_29_-31   \n",
       "\n",
       "                group_id  window_index                window     water  \\\n",
       "6014  group_29.17_-28.68             3  (192, 192, 192, 192)  0.282823   \n",
       "3512  group_19.16_-33.25             3  (192, 192, 192, 192)  0.026937   \n",
       "6940  group_29.22_-31.36             0      (0, 0, 192, 192)  0.034478   \n",
       "\n",
       "      not_water   no_data     dataset water_tag data_split  \n",
       "6014   0.708496  0.008681  africa_mtn      high      train  \n",
       "3512   0.960097  0.012967      africa    medium      valid  \n",
       "6940   0.962972  0.002550  africa_mtn    medium   hold_out  "
      ]
     },
     "execution_count": 8,
     "metadata": {},
     "output_type": "execute_result"
    }
   ],
   "source": [
    "df.sample(3)"
   ]
  },
  {
   "cell_type": "code",
   "execution_count": 9,
   "metadata": {},
   "outputs": [
    {
     "name": "stdout",
     "output_type": "stream",
     "text": [
      "UPLOAD: gsutil cp surface-water.africa.win192.split.csv gs://surface-water-public/data/v1/datasets\n"
     ]
    }
   ],
   "source": [
    "file_name=f'{DSET}.split.csv'\n",
    "df.to_csv(file_name,index=False)\n",
    "print(f'UPLOAD: gsutil cp {file_name} gs://surface-water-public/data/v1/datasets')"
   ]
  },
  {
   "cell_type": "markdown",
   "metadata": {},
   "source": [
    "---"
   ]
  },
  {
   "cell_type": "code",
   "execution_count": 14,
   "metadata": {},
   "outputs": [
    {
     "name": "stdout",
     "output_type": "stream",
     "text": [
      "Copying file://surface-water.africa.win192.split.csv [Content-Type=text/csv]...\n",
      "/ [1 files][  2.4 MiB/  2.4 MiB]                                                \n",
      "Operation completed over 1 objects/2.4 MiB.                                      \n"
     ]
    }
   ],
   "source": [
    "# !gsutil cp surface-water.africa.win192.split.csv gs://surface-water-public/data/v1/datasets"
   ]
  },
  {
   "cell_type": "markdown",
   "metadata": {},
   "source": [
    "---"
   ]
  },
  {
   "cell_type": "markdown",
   "metadata": {},
   "source": [
    "##### WATER/NOT RATIO"
   ]
  },
  {
   "cell_type": "code",
   "execution_count": 11,
   "metadata": {},
   "outputs": [],
   "source": [
    "_df=df[df.data_split.isin(['train','valid'])]"
   ]
  },
  {
   "cell_type": "code",
   "execution_count": 12,
   "metadata": {},
   "outputs": [
    {
     "data": {
      "text/plain": [
       "8.281917177128546"
      ]
     },
     "execution_count": 12,
     "metadata": {},
     "output_type": "execute_result"
    }
   ],
   "source": [
    "_df.not_water.mean()/_df.water.mean()"
   ]
  },
  {
   "cell_type": "code",
   "execution_count": 13,
   "metadata": {},
   "outputs": [
    {
     "data": {
      "text/html": [
       "<div>\n",
       "<style scoped>\n",
       "    .dataframe tbody tr th:only-of-type {\n",
       "        vertical-align: middle;\n",
       "    }\n",
       "\n",
       "    .dataframe tbody tr th {\n",
       "        vertical-align: top;\n",
       "    }\n",
       "\n",
       "    .dataframe thead th {\n",
       "        text-align: right;\n",
       "    }\n",
       "</style>\n",
       "<table border=\"1\" class=\"dataframe\">\n",
       "  <thead>\n",
       "    <tr style=\"text-align: right;\">\n",
       "      <th></th>\n",
       "      <th>water</th>\n",
       "      <th>not_water</th>\n",
       "    </tr>\n",
       "  </thead>\n",
       "  <tbody>\n",
       "    <tr>\n",
       "      <th>count</th>\n",
       "      <td>5596.000000</td>\n",
       "      <td>5596.000000</td>\n",
       "    </tr>\n",
       "    <tr>\n",
       "      <th>mean</th>\n",
       "      <td>0.107023</td>\n",
       "      <td>0.888447</td>\n",
       "    </tr>\n",
       "    <tr>\n",
       "      <th>std</th>\n",
       "      <td>0.125526</td>\n",
       "      <td>0.126362</td>\n",
       "    </tr>\n",
       "    <tr>\n",
       "      <th>min</th>\n",
       "      <td>0.005018</td>\n",
       "      <td>0.374837</td>\n",
       "    </tr>\n",
       "    <tr>\n",
       "      <th>25%</th>\n",
       "      <td>0.021939</td>\n",
       "      <td>0.850932</td>\n",
       "    </tr>\n",
       "    <tr>\n",
       "      <th>50%</th>\n",
       "      <td>0.055759</td>\n",
       "      <td>0.939155</td>\n",
       "    </tr>\n",
       "    <tr>\n",
       "      <th>75%</th>\n",
       "      <td>0.143745</td>\n",
       "      <td>0.974101</td>\n",
       "    </tr>\n",
       "    <tr>\n",
       "      <th>max</th>\n",
       "      <td>0.599609</td>\n",
       "      <td>0.994982</td>\n",
       "    </tr>\n",
       "  </tbody>\n",
       "</table>\n",
       "</div>"
      ],
      "text/plain": [
       "             water    not_water\n",
       "count  5596.000000  5596.000000\n",
       "mean      0.107023     0.888447\n",
       "std       0.125526     0.126362\n",
       "min       0.005018     0.374837\n",
       "25%       0.021939     0.850932\n",
       "50%       0.055759     0.939155\n",
       "75%       0.143745     0.974101\n",
       "max       0.599609     0.994982"
      ]
     },
     "execution_count": 13,
     "metadata": {},
     "output_type": "execute_result"
    }
   ],
   "source": [
    "_df.drop_duplicates(subset=IDENTS)[['water','not_water']].describe()"
   ]
  },
  {
   "cell_type": "code",
   "execution_count": null,
   "metadata": {},
   "outputs": [],
   "source": []
  }
 ],
 "metadata": {
  "environment": {
   "name": "tf2-gpu.2-1.m48",
   "type": "gcloud",
   "uri": "gcr.io/deeplearning-platform-release/tf2-gpu.2-1:m48"
  },
  "kernelspec": {
   "display_name": "Python 3",
   "language": "python",
   "name": "python3"
  },
  "language_info": {
   "codemirror_mode": {
    "name": "ipython",
    "version": 3
   },
   "file_extension": ".py",
   "mimetype": "text/x-python",
   "name": "python",
   "nbconvert_exporter": "python",
   "pygments_lexer": "ipython3",
   "version": "3.7.6"
  }
 },
 "nbformat": 4,
 "nbformat_minor": 4
}
