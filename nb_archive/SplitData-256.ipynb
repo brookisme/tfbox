{
 "cells": [
  {
   "cell_type": "markdown",
   "metadata": {},
   "source": [
    "### SPLIT AFRICA DATASET 256\n",
    "\n",
    "I re-ran this notebook until the split was reasonably even between train/validation/test. In a perfect split the `low-med-high rfracs` would all equal 1 and the `block split fracs` would equal the respective `group fracs`.  \n",
    "\n",
    "RESULTS:\n",
    "\n",
    "```\n",
    "-------------------------------------------------------------------------------------\n",
    "block relative split: 0.7023809523809523 0.1984126984126984 0.0992063492063492 0.2\n",
    "block split fracs: 0.5619047619047619 0.15873015873015872 0.07936507936507936 0.2\n",
    "-------------------------------------------------------------------------------------\n",
    "\n",
    "train group frac: 0.5904858072478403\n",
    "* low-med-high rfracs: 1.0148718087916262 0.9897717827057199 1.0396853004491233\n",
    "\n",
    "valid group frac: 0.1447324133288455\n",
    "* low-med-high rfracs: 1.0072902291506942 1.0529494510312574 0.7643257517676123\n",
    "\n",
    "test group frac: 0.07921014248849995\n",
    "* low-med-high rfracs: 1.0821125050586806 1.0016411902022613 0.8878871836378919\n",
    "\n",
    "hold_out group frac: 0.18557163693481432\n",
    "* low-med-high rfracs: 0.9119430750627848 0.9905487518178216 1.1053855455306483\n",
    "\n",
    "```\n",
    "\n",
    "NOTES:\n",
    "\n",
    "    1. validation is a little low in group count but that speeds up training. its the test group that matters\n",
    "    2. the low-med-high fracs are good. \n",
    "    3. the hold out group can be used for additional training or additional validation if needed.\n",
    " "
   ]
  },
  {
   "cell_type": "markdown",
   "metadata": {},
   "source": [
    "---"
   ]
  },
  {
   "cell_type": "code",
   "execution_count": 1,
   "metadata": {},
   "outputs": [],
   "source": [
    "import pandas as pd\n",
    "from random import sample"
   ]
  },
  {
   "cell_type": "code",
   "execution_count": 2,
   "metadata": {},
   "outputs": [],
   "source": [
    "WSIZE=256\n",
    "DSET=f'surface-water.africa.win{WSIZE}'\n",
    "NO_DATA_MAX=0.05\n",
    "IDENTS=['group_id','window_index']"
   ]
  },
  {
   "cell_type": "code",
   "execution_count": 3,
   "metadata": {},
   "outputs": [
    {
     "name": "stdout",
     "output_type": "stream",
     "text": [
      "10458 673 10241\n",
      "9095 630 8913\n"
     ]
    },
    {
     "data": {
      "text/html": [
       "<div>\n",
       "<style scoped>\n",
       "    .dataframe tbody tr th:only-of-type {\n",
       "        vertical-align: middle;\n",
       "    }\n",
       "\n",
       "    .dataframe tbody tr th {\n",
       "        vertical-align: top;\n",
       "    }\n",
       "\n",
       "    .dataframe thead th {\n",
       "        text-align: right;\n",
       "    }\n",
       "</style>\n",
       "<table border=\"1\" class=\"dataframe\">\n",
       "  <thead>\n",
       "    <tr style=\"text-align: right;\">\n",
       "      <th></th>\n",
       "      <th>gsw_path</th>\n",
       "      <th>s1_path</th>\n",
       "      <th>block_id</th>\n",
       "      <th>group_id</th>\n",
       "      <th>window_index</th>\n",
       "      <th>window</th>\n",
       "      <th>water</th>\n",
       "      <th>not_water</th>\n",
       "      <th>no_data</th>\n",
       "      <th>dataset</th>\n",
       "    </tr>\n",
       "  </thead>\n",
       "  <tbody>\n",
       "    <tr>\n",
       "      <th>2835</th>\n",
       "      <td>gs://surface-water-public/data/v1/jrc/africa/G...</td>\n",
       "      <td>gs://surface-water-public/data/v1/sentinel_1/a...</td>\n",
       "      <td>block_17_-28</td>\n",
       "      <td>group_17.86_-28.75</td>\n",
       "      <td>1</td>\n",
       "      <td>(0, 256, 256, 256)</td>\n",
       "      <td>0.037018</td>\n",
       "      <td>0.962051</td>\n",
       "      <td>0.000931</td>\n",
       "      <td>africa</td>\n",
       "    </tr>\n",
       "    <tr>\n",
       "      <th>2468</th>\n",
       "      <td>gs://surface-water-public/data/v1/jrc/africa/G...</td>\n",
       "      <td>gs://surface-water-public/data/v1/sentinel_1/a...</td>\n",
       "      <td>block_22_-18</td>\n",
       "      <td>group_22.42_-18.97</td>\n",
       "      <td>3</td>\n",
       "      <td>(256, 256, 256, 256)</td>\n",
       "      <td>0.017105</td>\n",
       "      <td>0.982895</td>\n",
       "      <td>0.000000</td>\n",
       "      <td>africa</td>\n",
       "    </tr>\n",
       "    <tr>\n",
       "      <th>6177</th>\n",
       "      <td>gs://surface-water-public/data/v1/jrc/africa/G...</td>\n",
       "      <td>gs://surface-water-public/data/v1/sentinel_1/a...</td>\n",
       "      <td>block_14_12</td>\n",
       "      <td>group_14.32_12.85</td>\n",
       "      <td>1</td>\n",
       "      <td>(0, 256, 256, 256)</td>\n",
       "      <td>0.109314</td>\n",
       "      <td>0.844833</td>\n",
       "      <td>0.045853</td>\n",
       "      <td>africa</td>\n",
       "    </tr>\n",
       "  </tbody>\n",
       "</table>\n",
       "</div>"
      ],
      "text/plain": [
       "                                               gsw_path  \\\n",
       "2835  gs://surface-water-public/data/v1/jrc/africa/G...   \n",
       "2468  gs://surface-water-public/data/v1/jrc/africa/G...   \n",
       "6177  gs://surface-water-public/data/v1/jrc/africa/G...   \n",
       "\n",
       "                                                s1_path      block_id  \\\n",
       "2835  gs://surface-water-public/data/v1/sentinel_1/a...  block_17_-28   \n",
       "2468  gs://surface-water-public/data/v1/sentinel_1/a...  block_22_-18   \n",
       "6177  gs://surface-water-public/data/v1/sentinel_1/a...   block_14_12   \n",
       "\n",
       "                group_id  window_index                window     water  \\\n",
       "2835  group_17.86_-28.75             1    (0, 256, 256, 256)  0.037018   \n",
       "2468  group_22.42_-18.97             3  (256, 256, 256, 256)  0.017105   \n",
       "6177   group_14.32_12.85             1    (0, 256, 256, 256)  0.109314   \n",
       "\n",
       "      not_water   no_data dataset  \n",
       "2835   0.962051  0.000931  africa  \n",
       "2468   0.982895  0.000000  africa  \n",
       "6177   0.844833  0.045853  africa  "
      ]
     },
     "execution_count": 3,
     "metadata": {},
     "output_type": "execute_result"
    }
   ],
   "source": [
    "df=pd.read_csv(f'{DSET}.csv')\n",
    "print(\n",
    "    df.shape[0],\n",
    "    df.drop_duplicates(subset=['block_id']).shape[0],\n",
    "    df.drop_duplicates(subset=IDENTS).shape[0])\n",
    "df=df[df.no_data<=NO_DATA_MAX]\n",
    "print(\n",
    "    df.shape[0],\n",
    "    df.drop_duplicates(subset=['block_id']).shape[0],\n",
    "    df.drop_duplicates(subset=IDENTS).shape[0])\n",
    "df.sample(3)"
   ]
  },
  {
   "cell_type": "markdown",
   "metadata": {},
   "source": [
    "---"
   ]
  },
  {
   "cell_type": "code",
   "execution_count": 4,
   "metadata": {},
   "outputs": [],
   "source": [
    "def water_counter(df,quantiles=[0.15,0.85],labels=['low','medium','high']):\n",
    "    wqs=[0]+[df.water.quantile(q) for q in quantiles]+[1+1e-8]\n",
    "    dfs=[]\n",
    "    for i,l in enumerate(labels):\n",
    "        _df=df.copy()[(df.water>=wqs[i])&(df.water<wqs[i+1])]\n",
    "        _df['water_tag']=l\n",
    "        dfs.append(_df)\n",
    "    return pd.concat(dfs).sample(frac=1)\n",
    "\n",
    "\n",
    "def split_groups(blocks,valid_frac=0.2,test_frac=0.1,hold_out_frac=0.2,relative_frac=True):\n",
    "    if relative_frac:\n",
    "        valid_frac=(1-hold_out_frac)*valid_frac\n",
    "        test_frac=(1-hold_out_frac)*test_frac\n",
    "    nb_blocks=len(blocks)\n",
    "    nb_valid=int(valid_frac*nb_blocks)    \n",
    "    nb_test=int(test_frac*nb_blocks)\n",
    "    nb_hold_out=int(hold_out_frac*nb_blocks)\n",
    "    blocks=sample(blocks,nb_blocks)\n",
    "    valid=blocks[:nb_valid]\n",
    "    test=blocks[nb_valid:nb_valid+nb_test]\n",
    "    hold_out=blocks[nb_valid+nb_test:nb_valid+nb_test+nb_hold_out]\n",
    "    train=blocks[nb_valid+nb_test+nb_hold_out:]\n",
    "    rtotal=len(train)+len(valid)+len(test)\n",
    "    print('block relative split:',len(train)/rtotal,len(valid)/rtotal,len(test)/rtotal,len(hold_out)/nb_blocks)\n",
    "    print('block split fracs:',len(train)/nb_blocks,len(valid)/nb_blocks,len(test)/nb_blocks,len(hold_out)/nb_blocks)\n",
    "    return train, valid, test, hold_out\n",
    "\n",
    "\n",
    "def sub_df(typ,df,blocks,cnt):\n",
    "    \n",
    "    sdf=df.copy()[df.block_id.isin(blocks)]\n",
    "    sdf['data_split']=typ\n",
    "    \n",
    "    sgcnt=sdf.drop_duplicates(subset=IDENTS).shape[0]\n",
    "    frac=sgcnt/cnt\n",
    "    \n",
    "    ltcnt=df[df.water_tag=='low'].shape[0]*frac\n",
    "    mtcnt=df[df.water_tag=='medium'].shape[0]*frac\n",
    "    htcnt=df[df.water_tag=='high'].shape[0]*frac\n",
    "    \n",
    "    sltcnt=sdf[sdf.water_tag=='low'].shape[0]\n",
    "    smtcnt=sdf[sdf.water_tag=='medium'].shape[0]\n",
    "    shtcnt=sdf[sdf.water_tag=='high'].shape[0]\n",
    "    print()\n",
    "    print(f'{typ} group frac:',frac)\n",
    "    print('* low-med-high rfracs:',sltcnt/ltcnt,smtcnt/mtcnt,shtcnt/htcnt)\n",
    "    return sdf\n",
    "    \n",
    "    \n",
    "def df_splitter(df,train, valid, test, hold_out):\n",
    "    cnt=df.drop_duplicates(subset=IDENTS).shape[0]\n",
    "    tdf=sub_df('train',df,train,cnt)    \n",
    "    vdf=sub_df('valid',df,valid,cnt)    \n",
    "    sdf=sub_df('test',df,test,cnt)    \n",
    "    hdf=sub_df('hold_out',df,hold_out,cnt)\n",
    "    df=pd.concat([tdf, vdf, sdf, hdf])\n",
    "    return df"
   ]
  },
  {
   "cell_type": "markdown",
   "metadata": {},
   "source": [
    "---"
   ]
  },
  {
   "cell_type": "code",
   "execution_count": 5,
   "metadata": {},
   "outputs": [],
   "source": [
    "df=water_counter(df)"
   ]
  },
  {
   "cell_type": "code",
   "execution_count": 6,
   "metadata": {},
   "outputs": [],
   "source": [
    "blocks=list(df.block_id.unique())"
   ]
  },
  {
   "cell_type": "code",
   "execution_count": 7,
   "metadata": {},
   "outputs": [
    {
     "name": "stdout",
     "output_type": "stream",
     "text": [
      "-------------------------------------------------------------------------------------\n",
      "block relative split: 0.7023809523809523 0.1984126984126984 0.0992063492063492 0.2\n",
      "block split fracs: 0.5619047619047619 0.15873015873015872 0.07936507936507936 0.2\n",
      "-------------------------------------------------------------------------------------\n",
      "\n",
      "train group frac: 0.5904858072478403\n",
      "* low-med-high rfracs: 1.0148718087916262 0.9897717827057199 1.0396853004491233\n",
      "\n",
      "valid group frac: 0.1447324133288455\n",
      "* low-med-high rfracs: 1.0072902291506942 1.0529494510312574 0.7643257517676123\n",
      "\n",
      "test group frac: 0.07921014248849995\n",
      "* low-med-high rfracs: 1.0821125050586806 1.0016411902022613 0.8878871836378919\n",
      "\n",
      "hold_out group frac: 0.18557163693481432\n",
      "* low-med-high rfracs: 0.9119430750627848 0.9905487518178216 1.1053855455306483\n"
     ]
    }
   ],
   "source": [
    "print('-'*85)\n",
    "train, valid, test, hold_out=split_groups(blocks)\n",
    "print('-'*85)\n",
    "df=df_splitter(df, train, valid, test, hold_out)"
   ]
  },
  {
   "cell_type": "markdown",
   "metadata": {},
   "source": [
    "---"
   ]
  },
  {
   "cell_type": "code",
   "execution_count": 8,
   "metadata": {},
   "outputs": [
    {
     "data": {
      "text/html": [
       "<div>\n",
       "<style scoped>\n",
       "    .dataframe tbody tr th:only-of-type {\n",
       "        vertical-align: middle;\n",
       "    }\n",
       "\n",
       "    .dataframe tbody tr th {\n",
       "        vertical-align: top;\n",
       "    }\n",
       "\n",
       "    .dataframe thead th {\n",
       "        text-align: right;\n",
       "    }\n",
       "</style>\n",
       "<table border=\"1\" class=\"dataframe\">\n",
       "  <thead>\n",
       "    <tr style=\"text-align: right;\">\n",
       "      <th></th>\n",
       "      <th>gsw_path</th>\n",
       "      <th>s1_path</th>\n",
       "      <th>block_id</th>\n",
       "      <th>group_id</th>\n",
       "      <th>window_index</th>\n",
       "      <th>window</th>\n",
       "      <th>water</th>\n",
       "      <th>not_water</th>\n",
       "      <th>no_data</th>\n",
       "      <th>dataset</th>\n",
       "      <th>water_tag</th>\n",
       "      <th>data_split</th>\n",
       "    </tr>\n",
       "  </thead>\n",
       "  <tbody>\n",
       "    <tr>\n",
       "      <th>1584</th>\n",
       "      <td>gs://surface-water-public/data/v1/jrc/africa/G...</td>\n",
       "      <td>gs://surface-water-public/data/v1/sentinel_1/a...</td>\n",
       "      <td>block_-7_32</td>\n",
       "      <td>group_-7.83_32.64</td>\n",
       "      <td>3</td>\n",
       "      <td>(256, 256, 256, 256)</td>\n",
       "      <td>0.010162</td>\n",
       "      <td>0.988968</td>\n",
       "      <td>0.00087</td>\n",
       "      <td>africa</td>\n",
       "      <td>low</td>\n",
       "      <td>valid</td>\n",
       "    </tr>\n",
       "    <tr>\n",
       "      <th>4416</th>\n",
       "      <td>gs://surface-water-public/data/v1/jrc/africa/G...</td>\n",
       "      <td>gs://surface-water-public/data/v1/sentinel_1/a...</td>\n",
       "      <td>block_27_-15</td>\n",
       "      <td>group_27.27_-15.71</td>\n",
       "      <td>1</td>\n",
       "      <td>(0, 256, 256, 256)</td>\n",
       "      <td>0.239059</td>\n",
       "      <td>0.759201</td>\n",
       "      <td>0.00174</td>\n",
       "      <td>africa</td>\n",
       "      <td>high</td>\n",
       "      <td>valid</td>\n",
       "    </tr>\n",
       "    <tr>\n",
       "      <th>7501</th>\n",
       "      <td>gs://surface-water-public/data/v1/jrc/africa_m...</td>\n",
       "      <td>gs://surface-water-public/data/v1/sentinel_1/a...</td>\n",
       "      <td>block_-13_9</td>\n",
       "      <td>group_-13.37_9.58</td>\n",
       "      <td>3</td>\n",
       "      <td>(256, 256, 256, 256)</td>\n",
       "      <td>0.025818</td>\n",
       "      <td>0.974182</td>\n",
       "      <td>0.00000</td>\n",
       "      <td>africa_mtn</td>\n",
       "      <td>medium</td>\n",
       "      <td>train</td>\n",
       "    </tr>\n",
       "  </tbody>\n",
       "</table>\n",
       "</div>"
      ],
      "text/plain": [
       "                                               gsw_path  \\\n",
       "1584  gs://surface-water-public/data/v1/jrc/africa/G...   \n",
       "4416  gs://surface-water-public/data/v1/jrc/africa/G...   \n",
       "7501  gs://surface-water-public/data/v1/jrc/africa_m...   \n",
       "\n",
       "                                                s1_path      block_id  \\\n",
       "1584  gs://surface-water-public/data/v1/sentinel_1/a...   block_-7_32   \n",
       "4416  gs://surface-water-public/data/v1/sentinel_1/a...  block_27_-15   \n",
       "7501  gs://surface-water-public/data/v1/sentinel_1/a...   block_-13_9   \n",
       "\n",
       "                group_id  window_index                window     water  \\\n",
       "1584   group_-7.83_32.64             3  (256, 256, 256, 256)  0.010162   \n",
       "4416  group_27.27_-15.71             1    (0, 256, 256, 256)  0.239059   \n",
       "7501   group_-13.37_9.58             3  (256, 256, 256, 256)  0.025818   \n",
       "\n",
       "      not_water  no_data     dataset water_tag data_split  \n",
       "1584   0.988968  0.00087      africa       low      valid  \n",
       "4416   0.759201  0.00174      africa      high      valid  \n",
       "7501   0.974182  0.00000  africa_mtn    medium      train  "
      ]
     },
     "execution_count": 8,
     "metadata": {},
     "output_type": "execute_result"
    }
   ],
   "source": [
    "df.sample(3)"
   ]
  },
  {
   "cell_type": "code",
   "execution_count": 9,
   "metadata": {},
   "outputs": [
    {
     "name": "stdout",
     "output_type": "stream",
     "text": [
      "UPLOAD: gsutil cp surface-water.africa.win256.split.csv gs://surface-water-public/data/v1/datasets\n"
     ]
    }
   ],
   "source": [
    "file_name=f'{DSET}.split.csv'\n",
    "df.to_csv(file_name,index=False)\n",
    "print(f'UPLOAD: gsutil cp {file_name} gs://surface-water-public/data/v1/datasets')"
   ]
  },
  {
   "cell_type": "markdown",
   "metadata": {},
   "source": [
    "---"
   ]
  },
  {
   "cell_type": "code",
   "execution_count": 14,
   "metadata": {},
   "outputs": [
    {
     "name": "stdout",
     "output_type": "stream",
     "text": [
      "Copying file://surface-water.africa.win256.split.csv [Content-Type=text/csv]...\n",
      "/ [1 files][  2.8 MiB/  2.8 MiB]                                                \n",
      "Operation completed over 1 objects/2.8 MiB.                                      \n"
     ]
    }
   ],
   "source": [
    "# !gsutil cp surface-water.africa.win256.split.csv gs://surface-water-public/data/v1/datasets"
   ]
  },
  {
   "cell_type": "markdown",
   "metadata": {},
   "source": [
    "---"
   ]
  },
  {
   "cell_type": "markdown",
   "metadata": {},
   "source": [
    "##### WATER/NOT RATIO"
   ]
  },
  {
   "cell_type": "code",
   "execution_count": 11,
   "metadata": {},
   "outputs": [],
   "source": [
    "_df=df[df.data_split.isin(['train','valid'])]"
   ]
  },
  {
   "cell_type": "code",
   "execution_count": 12,
   "metadata": {},
   "outputs": [
    {
     "data": {
      "text/plain": [
       "8.499056392503826"
      ]
     },
     "execution_count": 12,
     "metadata": {},
     "output_type": "execute_result"
    }
   ],
   "source": [
    "_df.not_water.mean()/_df.water.mean()"
   ]
  },
  {
   "cell_type": "code",
   "execution_count": 13,
   "metadata": {},
   "outputs": [
    {
     "data": {
      "text/html": [
       "<div>\n",
       "<style scoped>\n",
       "    .dataframe tbody tr th:only-of-type {\n",
       "        vertical-align: middle;\n",
       "    }\n",
       "\n",
       "    .dataframe tbody tr th {\n",
       "        vertical-align: top;\n",
       "    }\n",
       "\n",
       "    .dataframe thead th {\n",
       "        text-align: right;\n",
       "    }\n",
       "</style>\n",
       "<table border=\"1\" class=\"dataframe\">\n",
       "  <thead>\n",
       "    <tr style=\"text-align: right;\">\n",
       "      <th></th>\n",
       "      <th>water</th>\n",
       "      <th>not_water</th>\n",
       "    </tr>\n",
       "  </thead>\n",
       "  <tbody>\n",
       "    <tr>\n",
       "      <th>count</th>\n",
       "      <td>6553.000000</td>\n",
       "      <td>6553.000000</td>\n",
       "    </tr>\n",
       "    <tr>\n",
       "      <th>mean</th>\n",
       "      <td>0.104713</td>\n",
       "      <td>0.890427</td>\n",
       "    </tr>\n",
       "    <tr>\n",
       "      <th>std</th>\n",
       "      <td>0.122543</td>\n",
       "      <td>0.124226</td>\n",
       "    </tr>\n",
       "    <tr>\n",
       "      <th>min</th>\n",
       "      <td>0.005005</td>\n",
       "      <td>0.369141</td>\n",
       "    </tr>\n",
       "    <tr>\n",
       "      <th>25%</th>\n",
       "      <td>0.022202</td>\n",
       "      <td>0.855698</td>\n",
       "    </tr>\n",
       "    <tr>\n",
       "      <th>50%</th>\n",
       "      <td>0.052628</td>\n",
       "      <td>0.941559</td>\n",
       "    </tr>\n",
       "    <tr>\n",
       "      <th>75%</th>\n",
       "      <td>0.137955</td>\n",
       "      <td>0.973724</td>\n",
       "    </tr>\n",
       "    <tr>\n",
       "      <th>max</th>\n",
       "      <td>0.598251</td>\n",
       "      <td>0.994995</td>\n",
       "    </tr>\n",
       "  </tbody>\n",
       "</table>\n",
       "</div>"
      ],
      "text/plain": [
       "             water    not_water\n",
       "count  6553.000000  6553.000000\n",
       "mean      0.104713     0.890427\n",
       "std       0.122543     0.124226\n",
       "min       0.005005     0.369141\n",
       "25%       0.022202     0.855698\n",
       "50%       0.052628     0.941559\n",
       "75%       0.137955     0.973724\n",
       "max       0.598251     0.994995"
      ]
     },
     "execution_count": 13,
     "metadata": {},
     "output_type": "execute_result"
    }
   ],
   "source": [
    "_df.drop_duplicates(subset=IDENTS)[['water','not_water']].describe()"
   ]
  },
  {
   "cell_type": "code",
   "execution_count": null,
   "metadata": {},
   "outputs": [],
   "source": []
  }
 ],
 "metadata": {
  "environment": {
   "name": "tf2-gpu.2-1.m48",
   "type": "gcloud",
   "uri": "gcr.io/deeplearning-platform-release/tf2-gpu.2-1:m48"
  },
  "kernelspec": {
   "display_name": "Python 3",
   "language": "python",
   "name": "python3"
  },
  "language_info": {
   "codemirror_mode": {
    "name": "ipython",
    "version": 3
   },
   "file_extension": ".py",
   "mimetype": "text/x-python",
   "name": "python",
   "nbconvert_exporter": "python",
   "pygments_lexer": "ipython3",
   "version": "3.7.6"
  }
 },
 "nbformat": 4,
 "nbformat_minor": 4
}
