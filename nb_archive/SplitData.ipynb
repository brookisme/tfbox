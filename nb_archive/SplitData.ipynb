{
 "cells": [
  {
   "cell_type": "markdown",
   "metadata": {},
   "source": [
    "### SPLIT AFRICA DATASET\n",
    "\n",
    "I re-ran this notebook until the split was reasonably even between train/validation/test. Results:\n",
    "\n",
    "```\n",
    "block relative split: 0.7013422818791947 0.19966442953020133 0.09899328859060402 0.1989247311827957\n",
    "block split fracs: 0.5618279569892473 0.15994623655913978 0.0793010752688172 0.1989247311827957\n",
    "--------------------------------------------------\n",
    "\n",
    "train group frac: 0.5754954954954955\n",
    "* low-med-high rfracs: 0.9912093359573009 0.9953038273162859 1.01233024086334\n",
    "\n",
    "valid group frac: 0.11729729729729729\n",
    "* low-med-high rfracs: 0.99800672957355 0.9987246993654794 1.0203430467621144\n",
    "\n",
    "test group frac: 0.07117117117117117\n",
    "* low-med-high rfracs: 1.1151295961422545 1.0108583524961854 0.917252000150246\n",
    "\n",
    "hold_out group frac: 0.23621621621621622\n",
    "* low-med-high rfracs: 0.9869556136718608 1.008040234194403 0.984026961999244\n",
    "\n",
    "```\n",
    "\n",
    "In a perfect split the `low-med-high rfracs` would all equal 1 and the `block split fracs` would equal the respective `group fracs`.  Notes for this split:\n",
    "\n",
    "    1. validation is a little low in group count but that speeds up training. its the test group that matters\n",
    "    2. the low-med-high fracs are good. the test group is high on low water content and low on high water content which you can argue is a feature since it requires us to score better on the harder categories.\n",
    "    3. the hold out group can be used for additional training or additional validation if needed.\n",
    " "
   ]
  },
  {
   "cell_type": "markdown",
   "metadata": {},
   "source": [
    "---"
   ]
  },
  {
   "cell_type": "code",
   "execution_count": 1,
   "metadata": {},
   "outputs": [],
   "source": [
    "import pandas as pd\n",
    "from random import sample"
   ]
  },
  {
   "cell_type": "code",
   "execution_count": 2,
   "metadata": {},
   "outputs": [],
   "source": [
    "BASENAMES=['africa_small','africa','africa_mtn']\n",
    "URI_TMPL='https://storage.googleapis.com/surface-water-public/data/v1/datasets/{}.csv'"
   ]
  },
  {
   "cell_type": "code",
   "execution_count": 3,
   "metadata": {},
   "outputs": [
    {
     "data": {
      "text/plain": [
       "(6731, 744, 5550)"
      ]
     },
     "execution_count": 3,
     "metadata": {},
     "output_type": "execute_result"
    }
   ],
   "source": [
    "df=pd.concat([ pd.read_csv(URI_TMPL.format(b)) for b in BASENAMES ])\n",
    "df.shape[0],df.drop_duplicates(subset=['block_id']).shape[0],df.drop_duplicates(subset=['group_id']).shape[0]"
   ]
  },
  {
   "cell_type": "markdown",
   "metadata": {},
   "source": [
    "---"
   ]
  },
  {
   "cell_type": "code",
   "execution_count": 4,
   "metadata": {},
   "outputs": [],
   "source": [
    "def water_counter(df,quantiles=[0.15,0.85],labels=['low','medium','high']):\n",
    "    wqs=[0]+[df.water.quantile(q) for q in quantiles]+[1+1e-8]\n",
    "    dfs=[]\n",
    "    for i,l in enumerate(labels):\n",
    "        _df=df.copy()[(df.water>=wqs[i])&(df.water<wqs[i+1])]\n",
    "        _df['water_tag']=l\n",
    "        dfs.append(_df)\n",
    "    return pd.concat(dfs).sample(frac=1)\n",
    "\n",
    "\n",
    "def split_groups(blocks,valid_frac=0.2,test_frac=0.1,hold_out_frac=0.2,relative_frac=True):\n",
    "    if relative_frac:\n",
    "        valid_frac=(1-hold_out_frac)*valid_frac\n",
    "        test_frac=(1-hold_out_frac)*test_frac\n",
    "    nb_blocks=len(blocks)\n",
    "    nb_valid=int(valid_frac*nb_blocks)    \n",
    "    nb_test=int(test_frac*nb_blocks)\n",
    "    nb_hold_out=int(hold_out_frac*nb_blocks)\n",
    "    blocks=sample(blocks,nb_blocks)\n",
    "    valid=blocks[:nb_valid]\n",
    "    test=blocks[nb_valid:nb_valid+nb_test]\n",
    "    hold_out=blocks[nb_valid+nb_test:nb_valid+nb_test+nb_hold_out]\n",
    "    train=blocks[nb_valid+nb_test+nb_hold_out:]\n",
    "    rtotal=len(train)+len(valid)+len(test)\n",
    "    print('block relative split:',len(train)/rtotal,len(valid)/rtotal,len(test)/rtotal,len(hold_out)/nb_blocks)\n",
    "    print('block split fracs:',len(train)/nb_blocks,len(valid)/nb_blocks,len(test)/nb_blocks,len(hold_out)/nb_blocks)\n",
    "    return train, valid, test, hold_out\n",
    "\n",
    "\n",
    "def sub_df(typ,df,blocks,cnt):\n",
    "    \n",
    "    sdf=df.copy()[df.block_id.isin(blocks)]\n",
    "    sdf['data_split']=typ\n",
    "    \n",
    "    sgcnt=sdf.drop_duplicates(subset=['group_id']).shape[0]\n",
    "    frac=sgcnt/cnt\n",
    "    \n",
    "    ltcnt=df[df.water_tag=='low'].shape[0]*frac\n",
    "    mtcnt=df[df.water_tag=='medium'].shape[0]*frac\n",
    "    htcnt=df[df.water_tag=='high'].shape[0]*frac\n",
    "    \n",
    "    sltcnt=sdf[sdf.water_tag=='low'].shape[0]\n",
    "    smtcnt=sdf[sdf.water_tag=='medium'].shape[0]\n",
    "    shtcnt=sdf[sdf.water_tag=='high'].shape[0]\n",
    "    print()\n",
    "    print(f'{typ} group frac:',frac)\n",
    "    print('* low-med-high rfracs:',sltcnt/ltcnt,smtcnt/mtcnt,shtcnt/htcnt)\n",
    "    return sdf\n",
    "    \n",
    "    \n",
    "def df_splitter(df,train, valid, test, hold_out):\n",
    "    cnt=df.drop_duplicates(subset=['group_id']).shape[0]\n",
    "    tdf=sub_df('train',df,train,cnt)    \n",
    "    vdf=sub_df('valid',df,valid,cnt)    \n",
    "    sdf=sub_df('test',df,test,cnt)    \n",
    "    hdf=sub_df('hold_out',df,hold_out,cnt)\n",
    "    df=pd.concat([tdf, vdf, sdf, hdf])\n",
    "    return df"
   ]
  },
  {
   "cell_type": "markdown",
   "metadata": {},
   "source": [
    "---"
   ]
  },
  {
   "cell_type": "code",
   "execution_count": 5,
   "metadata": {},
   "outputs": [],
   "source": [
    "df=water_counter(df)"
   ]
  },
  {
   "cell_type": "code",
   "execution_count": 6,
   "metadata": {},
   "outputs": [],
   "source": [
    "blocks=list(df.block_id.unique())"
   ]
  },
  {
   "cell_type": "code",
   "execution_count": 7,
   "metadata": {},
   "outputs": [
    {
     "name": "stdout",
     "output_type": "stream",
     "text": [
      "block relative split: 0.7013422818791947 0.19966442953020133 0.09899328859060402 0.1989247311827957\n",
      "block split fracs: 0.5618279569892473 0.15994623655913978 0.0793010752688172 0.1989247311827957\n",
      "--------------------------------------------------\n",
      "\n",
      "train group frac: 0.5754954954954955\n",
      "* low-med-high rfracs: 0.9912093359573009 0.9953038273162859 1.01233024086334\n",
      "\n",
      "valid group frac: 0.11729729729729729\n",
      "* low-med-high rfracs: 0.99800672957355 0.9987246993654794 1.0203430467621144\n",
      "\n",
      "test group frac: 0.07117117117117117\n",
      "* low-med-high rfracs: 1.1151295961422545 1.0108583524961854 0.917252000150246\n",
      "\n",
      "hold_out group frac: 0.23621621621621622\n",
      "* low-med-high rfracs: 0.9869556136718608 1.008040234194403 0.984026961999244\n"
     ]
    }
   ],
   "source": [
    "train, valid, test, hold_out=split_groups(blocks)\n",
    "print('-'*50)\n",
    "df=df_splitter(df, train, valid, test, hold_out)"
   ]
  },
  {
   "cell_type": "markdown",
   "metadata": {},
   "source": [
    "---"
   ]
  },
  {
   "cell_type": "code",
   "execution_count": 8,
   "metadata": {},
   "outputs": [
    {
     "data": {
      "text/html": [
       "<div>\n",
       "<style scoped>\n",
       "    .dataframe tbody tr th:only-of-type {\n",
       "        vertical-align: middle;\n",
       "    }\n",
       "\n",
       "    .dataframe tbody tr th {\n",
       "        vertical-align: top;\n",
       "    }\n",
       "\n",
       "    .dataframe thead th {\n",
       "        text-align: right;\n",
       "    }\n",
       "</style>\n",
       "<table border=\"1\" class=\"dataframe\">\n",
       "  <thead>\n",
       "    <tr style=\"text-align: right;\">\n",
       "      <th></th>\n",
       "      <th>year</th>\n",
       "      <th>month</th>\n",
       "      <th>aoi</th>\n",
       "      <th>crs</th>\n",
       "      <th>block_id</th>\n",
       "      <th>group_id</th>\n",
       "      <th>lat</th>\n",
       "      <th>lon</th>\n",
       "      <th>water</th>\n",
       "      <th>not_water</th>\n",
       "      <th>no_data</th>\n",
       "      <th>water_score</th>\n",
       "      <th>timestamp</th>\n",
       "      <th>lat_id</th>\n",
       "      <th>lon_id</th>\n",
       "      <th>tile_id</th>\n",
       "      <th>gsw_path</th>\n",
       "      <th>s1_path</th>\n",
       "      <th>water_tag</th>\n",
       "      <th>data_split</th>\n",
       "    </tr>\n",
       "  </thead>\n",
       "  <tbody>\n",
       "    <tr>\n",
       "      <th>1009</th>\n",
       "      <td>2015</td>\n",
       "      <td>2</td>\n",
       "      <td>africa</td>\n",
       "      <td>EPSG:32636</td>\n",
       "      <td>block_31_28</td>\n",
       "      <td>group_30.92_27.67</td>\n",
       "      <td>27.669220</td>\n",
       "      <td>30.915104</td>\n",
       "      <td>0.064522</td>\n",
       "      <td>0.930309</td>\n",
       "      <td>0.005169</td>\n",
       "      <td>0.060485</td>\n",
       "      <td>1.422749e+12</td>\n",
       "      <td>lat_27.6692193670</td>\n",
       "      <td>lon_30.9151032240</td>\n",
       "      <td>lon_30d9151032240_lat_27d6692193670-201502</td>\n",
       "      <td>gs://surface-water-public/data/v1/jrc/africa/G...</td>\n",
       "      <td>gs://surface-water-public/data/v1/sentinel_1/a...</td>\n",
       "      <td>medium</td>\n",
       "      <td>train</td>\n",
       "    </tr>\n",
       "    <tr>\n",
       "      <th>2545</th>\n",
       "      <td>2015</td>\n",
       "      <td>10</td>\n",
       "      <td>africa_mtn</td>\n",
       "      <td>EPSG:32734</td>\n",
       "      <td>block_23_-33</td>\n",
       "      <td>group_22.60_-33.49</td>\n",
       "      <td>-33.493187</td>\n",
       "      <td>22.599890</td>\n",
       "      <td>0.082783</td>\n",
       "      <td>0.916355</td>\n",
       "      <td>0.000862</td>\n",
       "      <td>0.086269</td>\n",
       "      <td>1.443658e+12</td>\n",
       "      <td>lat_-33.4931859987</td>\n",
       "      <td>lon_22.5998896684</td>\n",
       "      <td>lon_22d5998896684_lat_-33d4931859987-201510</td>\n",
       "      <td>gs://surface-water-public/data/v1/jrc/africa_m...</td>\n",
       "      <td>gs://surface-water-public/data/v1/sentinel_1/a...</td>\n",
       "      <td>medium</td>\n",
       "      <td>train</td>\n",
       "    </tr>\n",
       "    <tr>\n",
       "      <th>3544</th>\n",
       "      <td>2015</td>\n",
       "      <td>4</td>\n",
       "      <td>africa</td>\n",
       "      <td>EPSG:32632</td>\n",
       "      <td>block_9_12</td>\n",
       "      <td>group_8.82_11.82</td>\n",
       "      <td>11.818235</td>\n",
       "      <td>8.820251</td>\n",
       "      <td>0.011711</td>\n",
       "      <td>0.983963</td>\n",
       "      <td>0.004326</td>\n",
       "      <td>0.011703</td>\n",
       "      <td>1.427846e+12</td>\n",
       "      <td>lat_11.8182351470</td>\n",
       "      <td>lon_8.8202508459</td>\n",
       "      <td>lon_8d8202508459_lat_11d8182351470-201504</td>\n",
       "      <td>gs://surface-water-public/data/v1/jrc/africa/G...</td>\n",
       "      <td>gs://surface-water-public/data/v1/sentinel_1/a...</td>\n",
       "      <td>low</td>\n",
       "      <td>train</td>\n",
       "    </tr>\n",
       "  </tbody>\n",
       "</table>\n",
       "</div>"
      ],
      "text/plain": [
       "      year  month         aoi         crs      block_id            group_id  \\\n",
       "1009  2015      2      africa  EPSG:32636   block_31_28   group_30.92_27.67   \n",
       "2545  2015     10  africa_mtn  EPSG:32734  block_23_-33  group_22.60_-33.49   \n",
       "3544  2015      4      africa  EPSG:32632    block_9_12    group_8.82_11.82   \n",
       "\n",
       "            lat        lon     water  not_water   no_data  water_score  \\\n",
       "1009  27.669220  30.915104  0.064522   0.930309  0.005169     0.060485   \n",
       "2545 -33.493187  22.599890  0.082783   0.916355  0.000862     0.086269   \n",
       "3544  11.818235   8.820251  0.011711   0.983963  0.004326     0.011703   \n",
       "\n",
       "         timestamp              lat_id             lon_id  \\\n",
       "1009  1.422749e+12   lat_27.6692193670  lon_30.9151032240   \n",
       "2545  1.443658e+12  lat_-33.4931859987  lon_22.5998896684   \n",
       "3544  1.427846e+12   lat_11.8182351470   lon_8.8202508459   \n",
       "\n",
       "                                          tile_id  \\\n",
       "1009   lon_30d9151032240_lat_27d6692193670-201502   \n",
       "2545  lon_22d5998896684_lat_-33d4931859987-201510   \n",
       "3544    lon_8d8202508459_lat_11d8182351470-201504   \n",
       "\n",
       "                                               gsw_path  \\\n",
       "1009  gs://surface-water-public/data/v1/jrc/africa/G...   \n",
       "2545  gs://surface-water-public/data/v1/jrc/africa_m...   \n",
       "3544  gs://surface-water-public/data/v1/jrc/africa/G...   \n",
       "\n",
       "                                                s1_path water_tag data_split  \n",
       "1009  gs://surface-water-public/data/v1/sentinel_1/a...    medium      train  \n",
       "2545  gs://surface-water-public/data/v1/sentinel_1/a...    medium      train  \n",
       "3544  gs://surface-water-public/data/v1/sentinel_1/a...       low      train  "
      ]
     },
     "execution_count": 8,
     "metadata": {},
     "output_type": "execute_result"
    }
   ],
   "source": [
    "df.sample(3)"
   ]
  },
  {
   "cell_type": "markdown",
   "metadata": {},
   "source": [
    "---"
   ]
  },
  {
   "cell_type": "code",
   "execution_count": 9,
   "metadata": {},
   "outputs": [],
   "source": [
    "df.to_csv('surface-water.africa.master.csv',index=False)"
   ]
  },
  {
   "cell_type": "raw",
   "metadata": {},
   "source": [
    "===> gcs:  https://storage.googleapis.com/surface-water-public/data/v1/datasets/surface-water.africa.master.csv\n",
    "===> repo: datasets/surface-water.africa.master.csv"
   ]
  }
 ],
 "metadata": {
  "environment": {
   "name": "tf2-gpu.2-1.m48",
   "type": "gcloud",
   "uri": "gcr.io/deeplearning-platform-release/tf2-gpu.2-1:m48"
  },
  "kernelspec": {
   "display_name": "Python 3",
   "language": "python",
   "name": "python3"
  },
  "language_info": {
   "codemirror_mode": {
    "name": "ipython",
    "version": 3
   },
   "file_extension": ".py",
   "mimetype": "text/x-python",
   "name": "python",
   "nbconvert_exporter": "python",
   "pygments_lexer": "ipython3",
   "version": "3.7.6"
  }
 },
 "nbformat": 4,
 "nbformat_minor": 4
}
