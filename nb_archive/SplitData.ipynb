{
 "cells": [
  {
   "cell_type": "markdown",
   "metadata": {},
   "source": [
    "### SPLIT AFRICA DATASET\n",
    "\n",
    "I re-ran this notebook until the split was reasonably even between train/validation/test. In a perfect split the `low-med-high rfracs` would all equal 1 and the `block split fracs` would equal the respective `group fracs`.  I am not too concerned with less validation data, but prefer that `water-tag=low` be well represented in both test and validation."
   ]
  },
  {
   "cell_type": "markdown",
   "metadata": {},
   "source": [
    "---"
   ]
  },
  {
   "cell_type": "code",
   "execution_count": 1,
   "metadata": {},
   "outputs": [],
   "source": [
    "import pandas as pd\n",
    "from random import sample"
   ]
  },
  {
   "cell_type": "code",
   "execution_count": 2,
   "metadata": {},
   "outputs": [],
   "source": [
    "DSET='surface-water.africa'\n",
    "NO_DATA_MAX=0.05"
   ]
  },
  {
   "cell_type": "code",
   "execution_count": 3,
   "metadata": {},
   "outputs": [
    {
     "name": "stdout",
     "output_type": "stream",
     "text": [
      "4517 656 4405\n",
      "3956 615 3864\n"
     ]
    },
    {
     "data": {
      "text/html": [
       "<div>\n",
       "<style scoped>\n",
       "    .dataframe tbody tr th:only-of-type {\n",
       "        vertical-align: middle;\n",
       "    }\n",
       "\n",
       "    .dataframe tbody tr th {\n",
       "        vertical-align: top;\n",
       "    }\n",
       "\n",
       "    .dataframe thead th {\n",
       "        text-align: right;\n",
       "    }\n",
       "</style>\n",
       "<table border=\"1\" class=\"dataframe\">\n",
       "  <thead>\n",
       "    <tr style=\"text-align: right;\">\n",
       "      <th></th>\n",
       "      <th>gsw_path</th>\n",
       "      <th>s1_path</th>\n",
       "      <th>block_id</th>\n",
       "      <th>group_id</th>\n",
       "      <th>water</th>\n",
       "      <th>not_water</th>\n",
       "      <th>no_data</th>\n",
       "      <th>dataset</th>\n",
       "    </tr>\n",
       "  </thead>\n",
       "  <tbody>\n",
       "    <tr>\n",
       "      <th>3437</th>\n",
       "      <td>gs://surface-water-public/data/v1/jrc/africa_m...</td>\n",
       "      <td>gs://surface-water-public/data/v1/sentinel_1/a...</td>\n",
       "      <td>block_28_-31</td>\n",
       "      <td>group_28.71_-31.47</td>\n",
       "      <td>0.231907</td>\n",
       "      <td>0.757656</td>\n",
       "      <td>0.010437</td>\n",
       "      <td>africa_mtn</td>\n",
       "    </tr>\n",
       "    <tr>\n",
       "      <th>2910</th>\n",
       "      <td>gs://surface-water-public/data/v1/jrc/africa_m...</td>\n",
       "      <td>gs://surface-water-public/data/v1/sentinel_1/a...</td>\n",
       "      <td>block_30_-26</td>\n",
       "      <td>group_30.63_-26.52</td>\n",
       "      <td>0.063629</td>\n",
       "      <td>0.936371</td>\n",
       "      <td>0.000000</td>\n",
       "      <td>africa_mtn</td>\n",
       "    </tr>\n",
       "    <tr>\n",
       "      <th>2723</th>\n",
       "      <td>gs://surface-water-public/data/v1/jrc/africa_m...</td>\n",
       "      <td>gs://surface-water-public/data/v1/sentinel_1/a...</td>\n",
       "      <td>block_29_-29</td>\n",
       "      <td>group_29.83_-29.33</td>\n",
       "      <td>0.008507</td>\n",
       "      <td>0.990784</td>\n",
       "      <td>0.000710</td>\n",
       "      <td>africa_mtn</td>\n",
       "    </tr>\n",
       "  </tbody>\n",
       "</table>\n",
       "</div>"
      ],
      "text/plain": [
       "                                               gsw_path  \\\n",
       "3437  gs://surface-water-public/data/v1/jrc/africa_m...   \n",
       "2910  gs://surface-water-public/data/v1/jrc/africa_m...   \n",
       "2723  gs://surface-water-public/data/v1/jrc/africa_m...   \n",
       "\n",
       "                                                s1_path      block_id  \\\n",
       "3437  gs://surface-water-public/data/v1/sentinel_1/a...  block_28_-31   \n",
       "2910  gs://surface-water-public/data/v1/sentinel_1/a...  block_30_-26   \n",
       "2723  gs://surface-water-public/data/v1/sentinel_1/a...  block_29_-29   \n",
       "\n",
       "                group_id     water  not_water   no_data     dataset  \n",
       "3437  group_28.71_-31.47  0.231907   0.757656  0.010437  africa_mtn  \n",
       "2910  group_30.63_-26.52  0.063629   0.936371  0.000000  africa_mtn  \n",
       "2723  group_29.83_-29.33  0.008507   0.990784  0.000710  africa_mtn  "
      ]
     },
     "execution_count": 3,
     "metadata": {},
     "output_type": "execute_result"
    }
   ],
   "source": [
    "df=pd.read_csv(f'{DSET}.csv')\n",
    "print(\n",
    "    df.shape[0],\n",
    "    df.drop_duplicates(subset=['block_id']).shape[0],\n",
    "    df.drop_duplicates(subset=['group_id']).shape[0])\n",
    "df=df[df.no_data<=NO_DATA_MAX]\n",
    "print(\n",
    "    df.shape[0],\n",
    "    df.drop_duplicates(subset=['block_id']).shape[0],\n",
    "    df.drop_duplicates(subset=['group_id']).shape[0])\n",
    "df.sample(3)"
   ]
  },
  {
   "cell_type": "markdown",
   "metadata": {},
   "source": [
    "---"
   ]
  },
  {
   "cell_type": "code",
   "execution_count": 4,
   "metadata": {},
   "outputs": [],
   "source": [
    "def water_counter(df,quantiles=[0.15,0.85],labels=['low','medium','high']):\n",
    "    wqs=[0]+[df.water.quantile(q) for q in quantiles]+[1+1e-8]\n",
    "    dfs=[]\n",
    "    for i,l in enumerate(labels):\n",
    "        _df=df.copy()[(df.water>=wqs[i])&(df.water<wqs[i+1])]\n",
    "        _df['water_tag']=l\n",
    "        dfs.append(_df)\n",
    "    return pd.concat(dfs).sample(frac=1)\n",
    "\n",
    "\n",
    "def split_groups(blocks,valid_frac=0.2,test_frac=0.1,hold_out_frac=0.2,relative_frac=True):\n",
    "    if relative_frac:\n",
    "        valid_frac=(1-hold_out_frac)*valid_frac\n",
    "        test_frac=(1-hold_out_frac)*test_frac\n",
    "    nb_blocks=len(blocks)\n",
    "    nb_valid=int(valid_frac*nb_blocks)    \n",
    "    nb_test=int(test_frac*nb_blocks)\n",
    "    nb_hold_out=int(hold_out_frac*nb_blocks)\n",
    "    blocks=sample(blocks,nb_blocks)\n",
    "    valid=blocks[:nb_valid]\n",
    "    test=blocks[nb_valid:nb_valid+nb_test]\n",
    "    hold_out=blocks[nb_valid+nb_test:nb_valid+nb_test+nb_hold_out]\n",
    "    train=blocks[nb_valid+nb_test+nb_hold_out:]\n",
    "    rtotal=len(train)+len(valid)+len(test)\n",
    "    print('block relative split:',len(train)/rtotal,len(valid)/rtotal,len(test)/rtotal,len(hold_out)/nb_blocks)\n",
    "    print('block split fracs:',len(train)/nb_blocks,len(valid)/nb_blocks,len(test)/nb_blocks,len(hold_out)/nb_blocks)\n",
    "    return train, valid, test, hold_out\n",
    "\n",
    "\n",
    "def sub_df(typ,df,blocks,cnt):\n",
    "    \n",
    "    sdf=df.copy()[df.block_id.isin(blocks)]\n",
    "    sdf['data_split']=typ\n",
    "    \n",
    "    sgcnt=sdf.drop_duplicates(subset=['group_id']).shape[0]\n",
    "    frac=sgcnt/cnt\n",
    "    \n",
    "    ltcnt=df[df.water_tag=='low'].shape[0]*frac\n",
    "    mtcnt=df[df.water_tag=='medium'].shape[0]*frac\n",
    "    htcnt=df[df.water_tag=='high'].shape[0]*frac\n",
    "    \n",
    "    sltcnt=sdf[sdf.water_tag=='low'].shape[0]\n",
    "    smtcnt=sdf[sdf.water_tag=='medium'].shape[0]\n",
    "    shtcnt=sdf[sdf.water_tag=='high'].shape[0]\n",
    "    print()\n",
    "    print(f'{typ} group:',frac,f'({sgcnt}/{cnt})  [{int(ltcnt)},{int(mtcnt)},{int(htcnt)}]')\n",
    "    print('* low-med-high rfracs:',sltcnt/ltcnt,smtcnt/mtcnt,shtcnt/htcnt)\n",
    "    return sdf\n",
    "    \n",
    "    \n",
    "def df_splitter(df,train, valid, test, hold_out):\n",
    "    cnt=df.drop_duplicates(subset=['group_id']).shape[0]\n",
    "    tdf=sub_df('train',df,train,cnt)    \n",
    "    vdf=sub_df('valid',df,valid,cnt)    \n",
    "    sdf=sub_df('test',df,test,cnt)    \n",
    "    hdf=sub_df('hold_out',df,hold_out,cnt)\n",
    "    df=pd.concat([tdf, vdf, sdf, hdf])\n",
    "    return df"
   ]
  },
  {
   "cell_type": "markdown",
   "metadata": {},
   "source": [
    "---"
   ]
  },
  {
   "cell_type": "code",
   "execution_count": 5,
   "metadata": {},
   "outputs": [],
   "source": [
    "df=water_counter(df)"
   ]
  },
  {
   "cell_type": "code",
   "execution_count": 6,
   "metadata": {},
   "outputs": [],
   "source": [
    "blocks=list(df.block_id.unique())"
   ]
  },
  {
   "cell_type": "code",
   "execution_count": 7,
   "metadata": {},
   "outputs": [
    {
     "name": "stdout",
     "output_type": "stream",
     "text": [
      "-------------------------------------------------------------------------------------\n",
      "block relative split: 0.7012195121951219 0.1991869918699187 0.09959349593495935 0.2\n",
      "block split fracs: 0.5609756097560976 0.15934959349593497 0.07967479674796749 0.2\n",
      "-------------------------------------------------------------------------------------\n",
      "\n",
      "train group: 0.609472049689441 (2355/3864)  [362,1687,362]\n",
      "* low-med-high rfracs: 1.0606961333075984 0.9940613379477927 0.9778292478929421\n",
      "\n",
      "valid group: 0.1379399585921325 (533/3864)  [81,381,81]\n",
      "* low-med-high rfracs: 1.0007770007770007 1.0057152772505937 0.9275494153542934\n",
      "\n",
      "test group: 0.08462732919254658 (327/3864)  [50,234,50]\n",
      "* low-med-high rfracs: 0.9349766780959442 0.9349048098849234 1.3527322151175363\n",
      "\n",
      "hold_out group: 0.1679606625258799 (649/3864)  [99,464,99]\n",
      "* low-med-high rfracs: 0.8118784143437457 1.049653980779679 0.9622262688518467\n"
     ]
    }
   ],
   "source": [
    "print('-'*85)\n",
    "train, valid, test, hold_out=split_groups(blocks)\n",
    "print('-'*85)\n",
    "df=df_splitter(df, train, valid, test, hold_out)"
   ]
  },
  {
   "cell_type": "markdown",
   "metadata": {},
   "source": [
    "---"
   ]
  },
  {
   "cell_type": "code",
   "execution_count": 8,
   "metadata": {},
   "outputs": [
    {
     "data": {
      "text/html": [
       "<div>\n",
       "<style scoped>\n",
       "    .dataframe tbody tr th:only-of-type {\n",
       "        vertical-align: middle;\n",
       "    }\n",
       "\n",
       "    .dataframe tbody tr th {\n",
       "        vertical-align: top;\n",
       "    }\n",
       "\n",
       "    .dataframe thead th {\n",
       "        text-align: right;\n",
       "    }\n",
       "</style>\n",
       "<table border=\"1\" class=\"dataframe\">\n",
       "  <thead>\n",
       "    <tr style=\"text-align: right;\">\n",
       "      <th></th>\n",
       "      <th>gsw_path</th>\n",
       "      <th>s1_path</th>\n",
       "      <th>block_id</th>\n",
       "      <th>group_id</th>\n",
       "      <th>water</th>\n",
       "      <th>not_water</th>\n",
       "      <th>no_data</th>\n",
       "      <th>dataset</th>\n",
       "      <th>water_tag</th>\n",
       "      <th>data_split</th>\n",
       "    </tr>\n",
       "  </thead>\n",
       "  <tbody>\n",
       "    <tr>\n",
       "      <th>4320</th>\n",
       "      <td>gs://surface-water-public/data/v1/jrc/africa_m...</td>\n",
       "      <td>gs://surface-water-public/data/v1/sentinel_1/a...</td>\n",
       "      <td>block_27_-33</td>\n",
       "      <td>group_27.4_-33.33</td>\n",
       "      <td>0.106003</td>\n",
       "      <td>0.852798</td>\n",
       "      <td>0.041199</td>\n",
       "      <td>africa_mtn</td>\n",
       "      <td>medium</td>\n",
       "      <td>train</td>\n",
       "    </tr>\n",
       "    <tr>\n",
       "      <th>2071</th>\n",
       "      <td>gs://surface-water-public/data/v1/jrc/africa/G...</td>\n",
       "      <td>gs://surface-water-public/data/v1/sentinel_1/a...</td>\n",
       "      <td>block_-14_11</td>\n",
       "      <td>group_-14.93_11.27</td>\n",
       "      <td>0.033314</td>\n",
       "      <td>0.966686</td>\n",
       "      <td>0.000000</td>\n",
       "      <td>africa</td>\n",
       "      <td>medium</td>\n",
       "      <td>train</td>\n",
       "    </tr>\n",
       "    <tr>\n",
       "      <th>3515</th>\n",
       "      <td>gs://surface-water-public/data/v1/jrc/africa_m...</td>\n",
       "      <td>gs://surface-water-public/data/v1/sentinel_1/a...</td>\n",
       "      <td>block_-14_11</td>\n",
       "      <td>group_-14.83_11.74</td>\n",
       "      <td>0.039894</td>\n",
       "      <td>0.960106</td>\n",
       "      <td>0.000000</td>\n",
       "      <td>africa_mtn</td>\n",
       "      <td>medium</td>\n",
       "      <td>train</td>\n",
       "    </tr>\n",
       "  </tbody>\n",
       "</table>\n",
       "</div>"
      ],
      "text/plain": [
       "                                               gsw_path  \\\n",
       "4320  gs://surface-water-public/data/v1/jrc/africa_m...   \n",
       "2071  gs://surface-water-public/data/v1/jrc/africa/G...   \n",
       "3515  gs://surface-water-public/data/v1/jrc/africa_m...   \n",
       "\n",
       "                                                s1_path      block_id  \\\n",
       "4320  gs://surface-water-public/data/v1/sentinel_1/a...  block_27_-33   \n",
       "2071  gs://surface-water-public/data/v1/sentinel_1/a...  block_-14_11   \n",
       "3515  gs://surface-water-public/data/v1/sentinel_1/a...  block_-14_11   \n",
       "\n",
       "                group_id     water  not_water   no_data     dataset water_tag  \\\n",
       "4320   group_27.4_-33.33  0.106003   0.852798  0.041199  africa_mtn    medium   \n",
       "2071  group_-14.93_11.27  0.033314   0.966686  0.000000      africa    medium   \n",
       "3515  group_-14.83_11.74  0.039894   0.960106  0.000000  africa_mtn    medium   \n",
       "\n",
       "     data_split  \n",
       "4320      train  \n",
       "2071      train  \n",
       "3515      train  "
      ]
     },
     "execution_count": 8,
     "metadata": {},
     "output_type": "execute_result"
    }
   ],
   "source": [
    "df.sample(3)"
   ]
  },
  {
   "cell_type": "code",
   "execution_count": 9,
   "metadata": {},
   "outputs": [
    {
     "name": "stdout",
     "output_type": "stream",
     "text": [
      "UPLOAD: gsutil cp surface-water.africa.split.csv gs://surface-water-public/data/v1/datasets\n"
     ]
    }
   ],
   "source": [
    "file_name=f'{DSET}.split.csv'\n",
    "df.to_csv(file_name,index=False)\n",
    "print(f'UPLOAD: gsutil cp {file_name} gs://surface-water-public/data/v1/datasets')"
   ]
  },
  {
   "cell_type": "markdown",
   "metadata": {},
   "source": [
    "---"
   ]
  },
  {
   "cell_type": "code",
   "execution_count": 16,
   "metadata": {},
   "outputs": [],
   "source": [
    "# !gsutil cp surface-water.africa.split.csv gs://surface-water-public/data/v1/datasets"
   ]
  },
  {
   "cell_type": "markdown",
   "metadata": {},
   "source": [
    "---"
   ]
  },
  {
   "cell_type": "markdown",
   "metadata": {},
   "source": [
    "##### WATER/NOT RATIO"
   ]
  },
  {
   "cell_type": "code",
   "execution_count": 11,
   "metadata": {},
   "outputs": [],
   "source": [
    "_df=df[df.data_split.isin(['train','valid'])]"
   ]
  },
  {
   "cell_type": "code",
   "execution_count": 12,
   "metadata": {},
   "outputs": [
    {
     "data": {
      "text/plain": [
       "12.668450830567274"
      ]
     },
     "execution_count": 12,
     "metadata": {},
     "output_type": "execute_result"
    }
   ],
   "source": [
    "_df.not_water.mean()/_df.water.mean()"
   ]
  },
  {
   "cell_type": "code",
   "execution_count": 13,
   "metadata": {},
   "outputs": [
    {
     "data": {
      "text/html": [
       "<div>\n",
       "<style scoped>\n",
       "    .dataframe tbody tr th:only-of-type {\n",
       "        vertical-align: middle;\n",
       "    }\n",
       "\n",
       "    .dataframe tbody tr th {\n",
       "        vertical-align: top;\n",
       "    }\n",
       "\n",
       "    .dataframe thead th {\n",
       "        text-align: right;\n",
       "    }\n",
       "</style>\n",
       "<table border=\"1\" class=\"dataframe\">\n",
       "  <thead>\n",
       "    <tr style=\"text-align: right;\">\n",
       "      <th></th>\n",
       "      <th>water</th>\n",
       "      <th>not_water</th>\n",
       "    </tr>\n",
       "  </thead>\n",
       "  <tbody>\n",
       "    <tr>\n",
       "      <th>count</th>\n",
       "      <td>2888.000000</td>\n",
       "      <td>2888.000000</td>\n",
       "    </tr>\n",
       "    <tr>\n",
       "      <th>mean</th>\n",
       "      <td>0.072785</td>\n",
       "      <td>0.922525</td>\n",
       "    </tr>\n",
       "    <tr>\n",
       "      <th>std</th>\n",
       "      <td>0.082871</td>\n",
       "      <td>0.084227</td>\n",
       "    </tr>\n",
       "    <tr>\n",
       "      <th>min</th>\n",
       "      <td>0.005032</td>\n",
       "      <td>0.411617</td>\n",
       "    </tr>\n",
       "    <tr>\n",
       "      <th>25%</th>\n",
       "      <td>0.017656</td>\n",
       "      <td>0.900648</td>\n",
       "    </tr>\n",
       "    <tr>\n",
       "      <th>50%</th>\n",
       "      <td>0.036377</td>\n",
       "      <td>0.958939</td>\n",
       "    </tr>\n",
       "    <tr>\n",
       "      <th>75%</th>\n",
       "      <td>0.092906</td>\n",
       "      <td>0.979426</td>\n",
       "    </tr>\n",
       "    <tr>\n",
       "      <th>max</th>\n",
       "      <td>0.588383</td>\n",
       "      <td>0.994911</td>\n",
       "    </tr>\n",
       "  </tbody>\n",
       "</table>\n",
       "</div>"
      ],
      "text/plain": [
       "             water    not_water\n",
       "count  2888.000000  2888.000000\n",
       "mean      0.072785     0.922525\n",
       "std       0.082871     0.084227\n",
       "min       0.005032     0.411617\n",
       "25%       0.017656     0.900648\n",
       "50%       0.036377     0.958939\n",
       "75%       0.092906     0.979426\n",
       "max       0.588383     0.994911"
      ]
     },
     "execution_count": 13,
     "metadata": {},
     "output_type": "execute_result"
    }
   ],
   "source": [
    "_df.drop_duplicates(subset=['group_id'])[['water','not_water']].describe()"
   ]
  },
  {
   "cell_type": "code",
   "execution_count": null,
   "metadata": {},
   "outputs": [],
   "source": []
  }
 ],
 "metadata": {
  "environment": {
   "name": "tf2-gpu.2-1.m48",
   "type": "gcloud",
   "uri": "gcr.io/deeplearning-platform-release/tf2-gpu.2-1:m48"
  },
  "kernelspec": {
   "display_name": "Python 3",
   "language": "python",
   "name": "python3"
  },
  "language_info": {
   "codemirror_mode": {
    "name": "ipython",
    "version": 3
   },
   "file_extension": ".py",
   "mimetype": "text/x-python",
   "name": "python",
   "nbconvert_exporter": "python",
   "pygments_lexer": "ipython3",
   "version": "3.7.6"
  }
 },
 "nbformat": 4,
 "nbformat_minor": 4
}
