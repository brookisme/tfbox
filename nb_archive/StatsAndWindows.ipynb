{
 "cells": [
  {
   "cell_type": "code",
   "execution_count": 1,
   "metadata": {},
   "outputs": [
    {
     "name": "stdout",
     "output_type": "stream",
     "text": [
      "5701\n",
      "5701\n"
     ]
    }
   ],
   "source": [
    "!ls /DATA/data/v1/jrc/*/*.tif | wc -l\n",
    "!ls /DATA/data/v1/sentinel_1/*/*.tif | wc -l"
   ]
  },
  {
   "cell_type": "markdown",
   "metadata": {},
   "source": [
    "---"
   ]
  },
  {
   "cell_type": "code",
   "execution_count": 2,
   "metadata": {},
   "outputs": [],
   "source": [
    "import re\n",
    "from pathlib import Path\n",
    "import pandas as pd\n",
    "import numpy as np\n",
    "import image_kit.io as io\n",
    "import mproc"
   ]
  },
  {
   "cell_type": "markdown",
   "metadata": {},
   "source": [
    "---"
   ]
  },
  {
   "cell_type": "code",
   "execution_count": 3,
   "metadata": {},
   "outputs": [],
   "source": [
    "def to_float_str(value,sep='d',precision=2):\n",
    "    value=float(re.sub(sep,'.',str(value)))\n",
    "    return str(round(value,precision))\n",
    "\n",
    "\n",
    "def lonlat_strs(path,precision=2):\n",
    "    parts=path.split('/')[-1].split('_')\n",
    "    lon=parts[2]\n",
    "    lat=\"-\".join(parts[-1].split('_')[-1].split('-')[:-1])\n",
    "    return to_float_str(lon), to_float_str(lat)\n",
    "\n",
    "\n",
    "def block_id(path):\n",
    "    lon,lat=lonlat_strs(path)\n",
    "    lon=lon.split('.')[0]    \n",
    "    lat=lat.split('.')[0]\n",
    "    return f'block_{lon}_{lat}'\n",
    "\n",
    "\n",
    "def group_id(path):\n",
    "    lon,lat=lonlat_strs(path)\n",
    "    lon=lon.split('.')    \n",
    "    lat=lat.split('.')\n",
    "    return f'group_{lon[0]}.{lon[1][:2]}_{lat[0]}.{lat[1][:2]}'"
   ]
  },
  {
   "cell_type": "raw",
   "metadata": {},
   "source": [
    "NOTE: block_ids don't match if rounding after decimal, but this behavior is the correct one"
   ]
  },
  {
   "cell_type": "code",
   "execution_count": 4,
   "metadata": {},
   "outputs": [],
   "source": [
    "# DSET='https://storage.googleapis.com/surface-water-public/data/v1/datasets/surface-water.africa.master.csv'\n",
    "# _df=pd.read_csv(DSET)\n",
    "# r=_df.sample().iloc[0]\n",
    "# path=r.gsw_path\n",
    "# print((r.block_id,r.group_id)==(block_id(path), group_id(path)))\n",
    "# path,r.block_id,r.group_id,block_id(path), group_id(path)"
   ]
  },
  {
   "cell_type": "markdown",
   "metadata": {},
   "source": [
    "---"
   ]
  },
  {
   "cell_type": "code",
   "execution_count": 5,
   "metadata": {},
   "outputs": [],
   "source": [
    "SIZE=512\n",
    "\n",
    "def win_quad(i,win_size,size=SIZE):\n",
    "    nb_cols=int(size/win_size)\n",
    "    col=i//nb_cols    \n",
    "    row=i-col*nb_cols\n",
    "    return (col*win_size,row*win_size,win_size,win_size)\n",
    "\n",
    "def get_windows(win_size,size=SIZE):\n",
    "    return [win_quad(i,win_size=win_size,size=size) for i in range(int(size/win_size)**2)]"
   ]
  },
  {
   "cell_type": "markdown",
   "metadata": {},
   "source": [
    "---"
   ]
  },
  {
   "cell_type": "code",
   "execution_count": 6,
   "metadata": {},
   "outputs": [],
   "source": [
    "LIMIT=None"
   ]
  },
  {
   "cell_type": "code",
   "execution_count": 7,
   "metadata": {},
   "outputs": [],
   "source": [
    "DSETS=['africa','africa_mtn','africa_small']\n",
    "BUCKET='surface-water-public'\n",
    "DATA_DIR='/DATA'\n",
    "JRC_FOLDER='jrc'\n",
    "S1_FOLDER='sentinel_1'\n",
    "JRC_DIR=f'{DATA_DIR}/data/v1/{JRC_FOLDER}'\n",
    "BANDS=['no_data','not_water','water']\n",
    "MAX_WATER=0.6\n",
    "MIN_WATER=0.005\n",
    "MAX_NODATA=0.3\n",
    "WIN_SIZES=[128,256,192]"
   ]
  },
  {
   "cell_type": "code",
   "execution_count": 8,
   "metadata": {},
   "outputs": [],
   "source": [
    "COLS=[\n",
    "    'gsw_path',\n",
    "    's1_path',\n",
    "    'block_id',\n",
    "    'group_id',\n",
    "    'water',\n",
    "    'not_water',\n",
    "    'no_data',\n",
    "    'dataset']\n",
    "\n",
    "WCOLS=[\n",
    "    'gsw_path',\n",
    "    's1_path',\n",
    "    'block_id',\n",
    "    'group_id',\n",
    "    'window_index',\n",
    "    'window',\n",
    "    'water',\n",
    "    'not_water',\n",
    "    'no_data',\n",
    "    'dataset']"
   ]
  },
  {
   "cell_type": "code",
   "execution_count": 9,
   "metadata": {},
   "outputs": [],
   "source": [
    "def hist(values,counts,nb_pixels):\n",
    "    _hist={ v: c for v,c in zip(values,counts)}\n",
    "    return { c: _hist.get(i,0)/nb_pixels for i,c in enumerate(BANDS) }\n",
    "\n",
    "\n",
    "def check_jrc_window(im,window=None):\n",
    "    if window:\n",
    "        x,y,w,h=window\n",
    "        im=im[:,y:y+h,x:x+w]\n",
    "    else:\n",
    "        h,w=im.shape[1:]\n",
    "    values,counts=np.unique(im,return_counts=True)\n",
    "    out={}\n",
    "    if len(values)>1:\n",
    "        h=hist(values,counts,w*h)\n",
    "        if h['no_data']<MAX_NODATA:\n",
    "            w=h['water']\n",
    "            if (w>=MIN_WATER) & (w<MAX_WATER):\n",
    "                out=h\n",
    "    return out   \n",
    "\n",
    "\n",
    "\n",
    "def get_row_data(im,path,window_index,window):\n",
    "    row=check_jrc_window(im,window)\n",
    "    if row:\n",
    "        row['gsw_path']=re.sub(f'^{DATA_DIR}',f'gs://{BUCKET}',str(path))\n",
    "        s1_path=re.sub('/GSW_','/S1_',row['gsw_path'])\n",
    "        row['s1_path']=re.sub(f'/{JRC_FOLDER}/',f'/{S1_FOLDER}/',s1_path)\n",
    "        row['block_id']=block_id(row['gsw_path'])\n",
    "        row['group_id']=group_id(row['gsw_path'])\n",
    "        if window:\n",
    "            row['window_index']=window_index\n",
    "            row['window']=window\n",
    "    return row\n",
    "\n",
    "\n",
    "def proc_jrc(path,windows=None):\n",
    "    im=io.read(path,return_profile=False)\n",
    "    rows=[]\n",
    "    if windows:\n",
    "        return [get_row_data(im,path,i,w) for i,w in enumerate(windows)]\n",
    "    else:\n",
    "        return [get_row_data(im,path,False,False)]"
   ]
  },
  {
   "cell_type": "code",
   "execution_count": 10,
   "metadata": {},
   "outputs": [],
   "source": [
    "def proc_paths(paths,windows=None):\n",
    "    rows=[]\n",
    "    for p in paths:\n",
    "        rows+=proc_jrc(p,windows)\n",
    "    return [r for r in rows if r]"
   ]
  },
  {
   "cell_type": "code",
   "execution_count": 11,
   "metadata": {},
   "outputs": [],
   "source": [
    "def proc_datasets(windows,datasets=DSETS,limit=None):\n",
    "    dfs=[]\n",
    "    for d in datasets:\n",
    "        paths=list(Path(f'{JRC_DIR}/{d}').glob('*.tif'))\n",
    "        df=pd.DataFrame(proc_paths(paths[:limit],windows=windows))\n",
    "        df['dataset']=d\n",
    "        print(f'{d}: {len(paths)} => {df.shape[0]}')\n",
    "        dfs.append(df)\n",
    "    return pd.concat(dfs)  "
   ]
  },
  {
   "cell_type": "markdown",
   "metadata": {},
   "source": [
    "---"
   ]
  },
  {
   "cell_type": "code",
   "execution_count": 12,
   "metadata": {},
   "outputs": [
    {
     "name": "stdout",
     "output_type": "stream",
     "text": [
      "africa: 3393 => 2662\n",
      "africa_mtn: 2126 => 1711\n",
      "africa_small: 182 => 144\n",
      "CPU times: user 35.5 s, sys: 4.17 s, total: 39.7 s\n",
      "Wall time: 53.3 s\n",
      "----------------------------------------------------------------------------------------------------\n",
      "surface-water.africa.csv 4517\n",
      "----------------------------------------------------------------------------------------------------\n"
     ]
    },
    {
     "data": {
      "text/html": [
       "<div>\n",
       "<style scoped>\n",
       "    .dataframe tbody tr th:only-of-type {\n",
       "        vertical-align: middle;\n",
       "    }\n",
       "\n",
       "    .dataframe tbody tr th {\n",
       "        vertical-align: top;\n",
       "    }\n",
       "\n",
       "    .dataframe thead th {\n",
       "        text-align: right;\n",
       "    }\n",
       "</style>\n",
       "<table border=\"1\" class=\"dataframe\">\n",
       "  <thead>\n",
       "    <tr style=\"text-align: right;\">\n",
       "      <th></th>\n",
       "      <th>gsw_path</th>\n",
       "      <th>s1_path</th>\n",
       "      <th>block_id</th>\n",
       "      <th>group_id</th>\n",
       "      <th>water</th>\n",
       "      <th>not_water</th>\n",
       "      <th>no_data</th>\n",
       "      <th>dataset</th>\n",
       "    </tr>\n",
       "  </thead>\n",
       "  <tbody>\n",
       "    <tr>\n",
       "      <th>1817</th>\n",
       "      <td>gs://surface-water-public/data/v1/jrc/africa/G...</td>\n",
       "      <td>gs://surface-water-public/data/v1/sentinel_1/a...</td>\n",
       "      <td>block_35_5</td>\n",
       "      <td>group_35.94_5.48</td>\n",
       "      <td>0.012051</td>\n",
       "      <td>0.986980</td>\n",
       "      <td>0.000969</td>\n",
       "      <td>africa</td>\n",
       "    </tr>\n",
       "    <tr>\n",
       "      <th>1235</th>\n",
       "      <td>gs://surface-water-public/data/v1/jrc/africa_m...</td>\n",
       "      <td>gs://surface-water-public/data/v1/sentinel_1/a...</td>\n",
       "      <td>block_30_-29</td>\n",
       "      <td>group_30.13_-29.55</td>\n",
       "      <td>0.025043</td>\n",
       "      <td>0.974590</td>\n",
       "      <td>0.000366</td>\n",
       "      <td>africa_mtn</td>\n",
       "    </tr>\n",
       "    <tr>\n",
       "      <th>839</th>\n",
       "      <td>gs://surface-water-public/data/v1/jrc/africa_m...</td>\n",
       "      <td>gs://surface-water-public/data/v1/sentinel_1/a...</td>\n",
       "      <td>block_31_-29</td>\n",
       "      <td>group_31.65_-29.06</td>\n",
       "      <td>0.134190</td>\n",
       "      <td>0.722355</td>\n",
       "      <td>0.143456</td>\n",
       "      <td>africa_mtn</td>\n",
       "    </tr>\n",
       "  </tbody>\n",
       "</table>\n",
       "</div>"
      ],
      "text/plain": [
       "                                               gsw_path  \\\n",
       "1817  gs://surface-water-public/data/v1/jrc/africa/G...   \n",
       "1235  gs://surface-water-public/data/v1/jrc/africa_m...   \n",
       "839   gs://surface-water-public/data/v1/jrc/africa_m...   \n",
       "\n",
       "                                                s1_path      block_id  \\\n",
       "1817  gs://surface-water-public/data/v1/sentinel_1/a...    block_35_5   \n",
       "1235  gs://surface-water-public/data/v1/sentinel_1/a...  block_30_-29   \n",
       "839   gs://surface-water-public/data/v1/sentinel_1/a...  block_31_-29   \n",
       "\n",
       "                group_id     water  not_water   no_data     dataset  \n",
       "1817    group_35.94_5.48  0.012051   0.986980  0.000969      africa  \n",
       "1235  group_30.13_-29.55  0.025043   0.974590  0.000366  africa_mtn  \n",
       "839   group_31.65_-29.06  0.134190   0.722355  0.143456  africa_mtn  "
      ]
     },
     "execution_count": 12,
     "metadata": {},
     "output_type": "execute_result"
    }
   ],
   "source": [
    "%time df=proc_datasets(None,limit=LIMIT)[COLS]\n",
    "path='surface-water.africa.csv'\n",
    "df.to_csv(path,index=False)\n",
    "print('-'*100)\n",
    "print(path,df.shape[0])\n",
    "print('-'*100)\n",
    "df.sample(3)"
   ]
  },
  {
   "cell_type": "markdown",
   "metadata": {},
   "source": [
    "---"
   ]
  },
  {
   "cell_type": "code",
   "execution_count": 13,
   "metadata": {},
   "outputs": [
    {
     "name": "stdout",
     "output_type": "stream",
     "text": [
      "africa: 3393 => 14752\n",
      "africa_mtn: 2126 => 9235\n",
      "africa_small: 182 => 775\n",
      "CPU times: user 34.1 s, sys: 3.95 s, total: 38 s\n",
      "Wall time: 38 s\n",
      "----------------------------------------------------------------------------------------------------\n",
      "surface-water.africa.win128.csv 24762\n",
      "----------------------------------------------------------------------------------------------------\n"
     ]
    },
    {
     "data": {
      "text/html": [
       "<div>\n",
       "<style scoped>\n",
       "    .dataframe tbody tr th:only-of-type {\n",
       "        vertical-align: middle;\n",
       "    }\n",
       "\n",
       "    .dataframe tbody tr th {\n",
       "        vertical-align: top;\n",
       "    }\n",
       "\n",
       "    .dataframe thead th {\n",
       "        text-align: right;\n",
       "    }\n",
       "</style>\n",
       "<table border=\"1\" class=\"dataframe\">\n",
       "  <thead>\n",
       "    <tr style=\"text-align: right;\">\n",
       "      <th></th>\n",
       "      <th>gsw_path</th>\n",
       "      <th>s1_path</th>\n",
       "      <th>block_id</th>\n",
       "      <th>group_id</th>\n",
       "      <th>window_index</th>\n",
       "      <th>window</th>\n",
       "      <th>water</th>\n",
       "      <th>not_water</th>\n",
       "      <th>no_data</th>\n",
       "      <th>dataset</th>\n",
       "    </tr>\n",
       "  </thead>\n",
       "  <tbody>\n",
       "    <tr>\n",
       "      <th>2332</th>\n",
       "      <td>gs://surface-water-public/data/v1/jrc/africa_m...</td>\n",
       "      <td>gs://surface-water-public/data/v1/sentinel_1/a...</td>\n",
       "      <td>block_26_-32</td>\n",
       "      <td>group_26.85_-32.31</td>\n",
       "      <td>13</td>\n",
       "      <td>(384, 128, 128, 128)</td>\n",
       "      <td>0.075623</td>\n",
       "      <td>0.915710</td>\n",
       "      <td>0.008667</td>\n",
       "      <td>africa_mtn</td>\n",
       "    </tr>\n",
       "    <tr>\n",
       "      <th>1857</th>\n",
       "      <td>gs://surface-water-public/data/v1/jrc/africa/G...</td>\n",
       "      <td>gs://surface-water-public/data/v1/sentinel_1/a...</td>\n",
       "      <td>block_29_-2</td>\n",
       "      <td>group_29.03_-2.26</td>\n",
       "      <td>5</td>\n",
       "      <td>(128, 128, 128, 128)</td>\n",
       "      <td>0.150696</td>\n",
       "      <td>0.843079</td>\n",
       "      <td>0.006226</td>\n",
       "      <td>africa</td>\n",
       "    </tr>\n",
       "    <tr>\n",
       "      <th>2458</th>\n",
       "      <td>gs://surface-water-public/data/v1/jrc/africa_m...</td>\n",
       "      <td>gs://surface-water-public/data/v1/sentinel_1/a...</td>\n",
       "      <td>block_31_-29</td>\n",
       "      <td>group_31.57_-29.14</td>\n",
       "      <td>14</td>\n",
       "      <td>(384, 256, 128, 128)</td>\n",
       "      <td>0.029968</td>\n",
       "      <td>0.967590</td>\n",
       "      <td>0.002441</td>\n",
       "      <td>africa_mtn</td>\n",
       "    </tr>\n",
       "  </tbody>\n",
       "</table>\n",
       "</div>"
      ],
      "text/plain": [
       "                                               gsw_path  \\\n",
       "2332  gs://surface-water-public/data/v1/jrc/africa_m...   \n",
       "1857  gs://surface-water-public/data/v1/jrc/africa/G...   \n",
       "2458  gs://surface-water-public/data/v1/jrc/africa_m...   \n",
       "\n",
       "                                                s1_path      block_id  \\\n",
       "2332  gs://surface-water-public/data/v1/sentinel_1/a...  block_26_-32   \n",
       "1857  gs://surface-water-public/data/v1/sentinel_1/a...   block_29_-2   \n",
       "2458  gs://surface-water-public/data/v1/sentinel_1/a...  block_31_-29   \n",
       "\n",
       "                group_id  window_index                window     water  \\\n",
       "2332  group_26.85_-32.31            13  (384, 128, 128, 128)  0.075623   \n",
       "1857   group_29.03_-2.26             5  (128, 128, 128, 128)  0.150696   \n",
       "2458  group_31.57_-29.14            14  (384, 256, 128, 128)  0.029968   \n",
       "\n",
       "      not_water   no_data     dataset  \n",
       "2332   0.915710  0.008667  africa_mtn  \n",
       "1857   0.843079  0.006226      africa  \n",
       "2458   0.967590  0.002441  africa_mtn  "
      ]
     },
     "execution_count": 13,
     "metadata": {},
     "output_type": "execute_result"
    }
   ],
   "source": [
    "WSIZE=128\n",
    "%time df=proc_datasets(get_windows(WSIZE),limit=LIMIT)[WCOLS]\n",
    "path=f'surface-water.africa.win{WSIZE}.csv'\n",
    "df.to_csv(path,index=False)\n",
    "print('-'*100)\n",
    "print(path,df.shape[0])\n",
    "print('-'*100)\n",
    "df.sample(3)"
   ]
  },
  {
   "cell_type": "code",
   "execution_count": 14,
   "metadata": {},
   "outputs": [
    {
     "name": "stdout",
     "output_type": "stream",
     "text": [
      "africa: 3393 => 6198\n",
      "africa_mtn: 2126 => 3923\n",
      "africa_small: 182 => 337\n",
      "CPU times: user 32.9 s, sys: 3.94 s, total: 36.8 s\n",
      "Wall time: 36.8 s\n",
      "----------------------------------------------------------------------------------------------------\n",
      "surface-water.africa.win256.csv 10458\n",
      "----------------------------------------------------------------------------------------------------\n"
     ]
    },
    {
     "data": {
      "text/html": [
       "<div>\n",
       "<style scoped>\n",
       "    .dataframe tbody tr th:only-of-type {\n",
       "        vertical-align: middle;\n",
       "    }\n",
       "\n",
       "    .dataframe tbody tr th {\n",
       "        vertical-align: top;\n",
       "    }\n",
       "\n",
       "    .dataframe thead th {\n",
       "        text-align: right;\n",
       "    }\n",
       "</style>\n",
       "<table border=\"1\" class=\"dataframe\">\n",
       "  <thead>\n",
       "    <tr style=\"text-align: right;\">\n",
       "      <th></th>\n",
       "      <th>gsw_path</th>\n",
       "      <th>s1_path</th>\n",
       "      <th>block_id</th>\n",
       "      <th>group_id</th>\n",
       "      <th>window_index</th>\n",
       "      <th>window</th>\n",
       "      <th>water</th>\n",
       "      <th>not_water</th>\n",
       "      <th>no_data</th>\n",
       "      <th>dataset</th>\n",
       "    </tr>\n",
       "  </thead>\n",
       "  <tbody>\n",
       "    <tr>\n",
       "      <th>2671</th>\n",
       "      <td>gs://surface-water-public/data/v1/jrc/africa_m...</td>\n",
       "      <td>gs://surface-water-public/data/v1/sentinel_1/a...</td>\n",
       "      <td>block_28_-32</td>\n",
       "      <td>group_28.93_-32.2</td>\n",
       "      <td>2</td>\n",
       "      <td>(256, 0, 256, 256)</td>\n",
       "      <td>0.012085</td>\n",
       "      <td>0.98172</td>\n",
       "      <td>0.006195</td>\n",
       "      <td>africa_mtn</td>\n",
       "    </tr>\n",
       "    <tr>\n",
       "      <th>2964</th>\n",
       "      <td>gs://surface-water-public/data/v1/jrc/africa/G...</td>\n",
       "      <td>gs://surface-water-public/data/v1/sentinel_1/a...</td>\n",
       "      <td>block_16_0</td>\n",
       "      <td>group_16.65_0.53</td>\n",
       "      <td>3</td>\n",
       "      <td>(256, 256, 256, 256)</td>\n",
       "      <td>0.185989</td>\n",
       "      <td>0.80687</td>\n",
       "      <td>0.007141</td>\n",
       "      <td>africa</td>\n",
       "    </tr>\n",
       "    <tr>\n",
       "      <th>4638</th>\n",
       "      <td>gs://surface-water-public/data/v1/jrc/africa/G...</td>\n",
       "      <td>gs://surface-water-public/data/v1/sentinel_1/a...</td>\n",
       "      <td>block_18_3</td>\n",
       "      <td>group_18.1_3.63</td>\n",
       "      <td>0</td>\n",
       "      <td>(0, 0, 256, 256)</td>\n",
       "      <td>0.044510</td>\n",
       "      <td>0.95549</td>\n",
       "      <td>0.000000</td>\n",
       "      <td>africa</td>\n",
       "    </tr>\n",
       "  </tbody>\n",
       "</table>\n",
       "</div>"
      ],
      "text/plain": [
       "                                               gsw_path  \\\n",
       "2671  gs://surface-water-public/data/v1/jrc/africa_m...   \n",
       "2964  gs://surface-water-public/data/v1/jrc/africa/G...   \n",
       "4638  gs://surface-water-public/data/v1/jrc/africa/G...   \n",
       "\n",
       "                                                s1_path      block_id  \\\n",
       "2671  gs://surface-water-public/data/v1/sentinel_1/a...  block_28_-32   \n",
       "2964  gs://surface-water-public/data/v1/sentinel_1/a...    block_16_0   \n",
       "4638  gs://surface-water-public/data/v1/sentinel_1/a...    block_18_3   \n",
       "\n",
       "               group_id  window_index                window     water  \\\n",
       "2671  group_28.93_-32.2             2    (256, 0, 256, 256)  0.012085   \n",
       "2964   group_16.65_0.53             3  (256, 256, 256, 256)  0.185989   \n",
       "4638    group_18.1_3.63             0      (0, 0, 256, 256)  0.044510   \n",
       "\n",
       "      not_water   no_data     dataset  \n",
       "2671    0.98172  0.006195  africa_mtn  \n",
       "2964    0.80687  0.007141      africa  \n",
       "4638    0.95549  0.000000      africa  "
      ]
     },
     "execution_count": 14,
     "metadata": {},
     "output_type": "execute_result"
    }
   ],
   "source": [
    "WSIZE=256\n",
    "%time df=proc_datasets(get_windows(WSIZE),limit=LIMIT)[WCOLS]\n",
    "path=f'surface-water.africa.win{WSIZE}.csv'\n",
    "df.to_csv(path,index=False)\n",
    "print('-'*100)\n",
    "print(path,df.shape[0])\n",
    "print('-'*100)\n",
    "df.sample(3)\n",
    "df.sample(3)"
   ]
  },
  {
   "cell_type": "code",
   "execution_count": 15,
   "metadata": {},
   "outputs": [
    {
     "name": "stdout",
     "output_type": "stream",
     "text": [
      "africa: 3393 => 5208\n",
      "africa_mtn: 2126 => 3210\n",
      "africa_small: 182 => 290\n",
      "CPU times: user 24.5 s, sys: 4.12 s, total: 28.6 s\n",
      "Wall time: 28.6 s\n",
      "----------------------------------------------------------------------------------------------------\n",
      "surface-water.africa.win192.csv 8708\n",
      "----------------------------------------------------------------------------------------------------\n"
     ]
    },
    {
     "data": {
      "text/html": [
       "<div>\n",
       "<style scoped>\n",
       "    .dataframe tbody tr th:only-of-type {\n",
       "        vertical-align: middle;\n",
       "    }\n",
       "\n",
       "    .dataframe tbody tr th {\n",
       "        vertical-align: top;\n",
       "    }\n",
       "\n",
       "    .dataframe thead th {\n",
       "        text-align: right;\n",
       "    }\n",
       "</style>\n",
       "<table border=\"1\" class=\"dataframe\">\n",
       "  <thead>\n",
       "    <tr style=\"text-align: right;\">\n",
       "      <th></th>\n",
       "      <th>gsw_path</th>\n",
       "      <th>s1_path</th>\n",
       "      <th>block_id</th>\n",
       "      <th>group_id</th>\n",
       "      <th>window_index</th>\n",
       "      <th>window</th>\n",
       "      <th>water</th>\n",
       "      <th>not_water</th>\n",
       "      <th>no_data</th>\n",
       "      <th>dataset</th>\n",
       "    </tr>\n",
       "  </thead>\n",
       "  <tbody>\n",
       "    <tr>\n",
       "      <th>3965</th>\n",
       "      <td>gs://surface-water-public/data/v1/jrc/africa/G...</td>\n",
       "      <td>gs://surface-water-public/data/v1/sentinel_1/a...</td>\n",
       "      <td>block_22_-34</td>\n",
       "      <td>group_22.67_-34.0</td>\n",
       "      <td>2</td>\n",
       "      <td>(192, 0, 192, 192)</td>\n",
       "      <td>0.347466</td>\n",
       "      <td>0.652534</td>\n",
       "      <td>0.0</td>\n",
       "      <td>africa</td>\n",
       "    </tr>\n",
       "    <tr>\n",
       "      <th>2011</th>\n",
       "      <td>gs://surface-water-public/data/v1/jrc/africa/G...</td>\n",
       "      <td>gs://surface-water-public/data/v1/sentinel_1/a...</td>\n",
       "      <td>block_32_-27</td>\n",
       "      <td>group_32.06_-27.43</td>\n",
       "      <td>2</td>\n",
       "      <td>(192, 0, 192, 192)</td>\n",
       "      <td>0.339871</td>\n",
       "      <td>0.660129</td>\n",
       "      <td>0.0</td>\n",
       "      <td>africa</td>\n",
       "    </tr>\n",
       "    <tr>\n",
       "      <th>1735</th>\n",
       "      <td>gs://surface-water-public/data/v1/jrc/africa_m...</td>\n",
       "      <td>gs://surface-water-public/data/v1/sentinel_1/a...</td>\n",
       "      <td>block_29_-31</td>\n",
       "      <td>group_29.22_-31.36</td>\n",
       "      <td>3</td>\n",
       "      <td>(192, 192, 192, 192)</td>\n",
       "      <td>0.043945</td>\n",
       "      <td>0.956055</td>\n",
       "      <td>0.0</td>\n",
       "      <td>africa_mtn</td>\n",
       "    </tr>\n",
       "  </tbody>\n",
       "</table>\n",
       "</div>"
      ],
      "text/plain": [
       "                                               gsw_path  \\\n",
       "3965  gs://surface-water-public/data/v1/jrc/africa/G...   \n",
       "2011  gs://surface-water-public/data/v1/jrc/africa/G...   \n",
       "1735  gs://surface-water-public/data/v1/jrc/africa_m...   \n",
       "\n",
       "                                                s1_path      block_id  \\\n",
       "3965  gs://surface-water-public/data/v1/sentinel_1/a...  block_22_-34   \n",
       "2011  gs://surface-water-public/data/v1/sentinel_1/a...  block_32_-27   \n",
       "1735  gs://surface-water-public/data/v1/sentinel_1/a...  block_29_-31   \n",
       "\n",
       "                group_id  window_index                window     water  \\\n",
       "3965   group_22.67_-34.0             2    (192, 0, 192, 192)  0.347466   \n",
       "2011  group_32.06_-27.43             2    (192, 0, 192, 192)  0.339871   \n",
       "1735  group_29.22_-31.36             3  (192, 192, 192, 192)  0.043945   \n",
       "\n",
       "      not_water  no_data     dataset  \n",
       "3965   0.652534      0.0      africa  \n",
       "2011   0.660129      0.0      africa  \n",
       "1735   0.956055      0.0  africa_mtn  "
      ]
     },
     "execution_count": 15,
     "metadata": {},
     "output_type": "execute_result"
    }
   ],
   "source": [
    "WSIZE=192\n",
    "%time df=proc_datasets(get_windows(WSIZE),limit=LIMIT)[WCOLS]\n",
    "path=f'surface-water.africa.win{WSIZE}.csv'\n",
    "df.to_csv(path,index=False)\n",
    "print('-'*100)\n",
    "print(path,df.shape[0])\n",
    "print('-'*100)\n",
    "df.sample(3)"
   ]
  },
  {
   "cell_type": "markdown",
   "metadata": {},
   "source": [
    "---\n",
    "\n",
    "---\n",
    "\n",
    "##### EXAMPLE\n",
    "\n",
    "---\n",
    "\n",
    "---"
   ]
  },
  {
   "cell_type": "code",
   "execution_count": 16,
   "metadata": {},
   "outputs": [
    {
     "data": {
      "text/plain": [
       "gsw_path        gs://surface-water-public/data/v1/jrc/africa_m...\n",
       "s1_path         gs://surface-water-public/data/v1/sentinel_1/a...\n",
       "block_id                                             block_25_-33\n",
       "group_id                                       group_25.74_-33.75\n",
       "window_index                                                    3\n",
       "window                                       (192, 192, 192, 192)\n",
       "water                                                   0.0662435\n",
       "not_water                                                0.929986\n",
       "no_data                                                0.00377062\n",
       "dataset                                                africa_mtn\n",
       "Name: 2284, dtype: object"
      ]
     },
     "execution_count": 16,
     "metadata": {},
     "output_type": "execute_result"
    }
   ],
   "source": [
    "df.sample().iloc[0]"
   ]
  },
  {
   "cell_type": "code",
   "execution_count": 19,
   "metadata": {},
   "outputs": [
    {
     "data": {
      "text/plain": [
       "'gs://surface-water-public/data/v1/sentinel_1/africa/S1_lon_32d1133595477_lat_-23d9087153653-201505.tif'"
      ]
     },
     "execution_count": 19,
     "metadata": {},
     "output_type": "execute_result"
    }
   ],
   "source": [
    "df.s1_path.iloc[0]"
   ]
  },
  {
   "cell_type": "code",
   "execution_count": 20,
   "metadata": {},
   "outputs": [
    {
     "name": "stdout",
     "output_type": "stream",
     "text": [
      "/DATA/data/v1/sentinel_1/africa/S1_lon_32d1133595477_lat_-23d9087153653-201505.tif\n"
     ]
    }
   ],
   "source": [
    "!ls /DATA/data/v1/sentinel_1/africa/S1_lon_32d1133595477_lat_-23d9087153653-201505.tif"
   ]
  },
  {
   "cell_type": "markdown",
   "metadata": {},
   "source": [
    "---\n",
    "\n",
    "---\n",
    "\n",
    "##### GCS UPLOAD/CLEANUP\n",
    "\n",
    "---\n",
    "\n",
    "---"
   ]
  },
  {
   "cell_type": "code",
   "execution_count": 17,
   "metadata": {},
   "outputs": [],
   "source": [
    "# !gsutil mv gs://surface-water-public/data/v1/datasets gs://surface-water-public/data/v1/gee_output_datasets"
   ]
  },
  {
   "cell_type": "code",
   "execution_count": 18,
   "metadata": {},
   "outputs": [
    {
     "name": "stdout",
     "output_type": "stream",
     "text": [
      "Copying file://surface-water.africa.csv [Content-Type=text/csv]...\n",
      "Copying file://surface-water.africa.split.csv [Content-Type=text/csv]...        \n",
      "Copying file://surface-water.africa.win128.csv [Content-Type=text/csv]...       \n",
      "Copying file://surface-water.africa.win128.split.csv [Content-Type=text/csv]... \n",
      "\\ [4 files][ 16.3 MiB/ 16.3 MiB]                                                \n",
      "==> NOTE: You are performing a sequence of gsutil operations that may\n",
      "run significantly faster if you instead use gsutil -m cp ... Please\n",
      "see the -m section under \"gsutil help options\" for further information\n",
      "about when gsutil -m can be advantageous.\n",
      "\n",
      "Copying file://surface-water.africa.win192.csv [Content-Type=text/csv]...\n",
      "Copying file://surface-water.africa.win192.split.csv [Content-Type=text/csv]... \n",
      "Copying file://surface-water.africa.win256.csv [Content-Type=text/csv]...       \n",
      "Copying file://surface-water.africa.win256.split.csv [Content-Type=text/csv]... \n",
      "/ [8 files][ 27.2 MiB/ 27.2 MiB]                                                \n",
      "Operation completed over 8 objects/27.2 MiB.                                     \n"
     ]
    }
   ],
   "source": [
    "!gsutil cp *.csv gs://surface-water-public/data/v1/datasets"
   ]
  }
 ],
 "metadata": {
  "environment": {
   "name": "tf2-gpu.2-1.m48",
   "type": "gcloud",
   "uri": "gcr.io/deeplearning-platform-release/tf2-gpu.2-1:m48"
  },
  "kernelspec": {
   "display_name": "Python 3",
   "language": "python",
   "name": "python3"
  },
  "language_info": {
   "codemirror_mode": {
    "name": "ipython",
    "version": 3
   },
   "file_extension": ".py",
   "mimetype": "text/x-python",
   "name": "python",
   "nbconvert_exporter": "python",
   "pygments_lexer": "ipython3",
   "version": "3.7.6"
  }
 },
 "nbformat": 4,
 "nbformat_minor": 4
}
