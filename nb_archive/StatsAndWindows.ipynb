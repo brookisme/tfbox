{
 "cells": [
  {
   "cell_type": "code",
   "execution_count": 1,
   "metadata": {},
   "outputs": [
    {
     "name": "stdout",
     "output_type": "stream",
     "text": [
      "5701\n",
      "5701\n"
     ]
    }
   ],
   "source": [
    "!ls /DATA/data/v1/jrc/*/*.tif | wc -l\n",
    "!ls /DATA/data/v1/sentinel_1/*/*.tif | wc -l"
   ]
  },
  {
   "cell_type": "markdown",
   "metadata": {},
   "source": [
    "---"
   ]
  },
  {
   "cell_type": "code",
   "execution_count": 2,
   "metadata": {},
   "outputs": [],
   "source": [
    "import re\n",
    "from pathlib import Path\n",
    "import pandas as pd\n",
    "import numpy as np\n",
    "import image_kit.io as io\n",
    "import mproc"
   ]
  },
  {
   "cell_type": "markdown",
   "metadata": {},
   "source": [
    "---"
   ]
  },
  {
   "cell_type": "code",
   "execution_count": 3,
   "metadata": {},
   "outputs": [],
   "source": [
    "def to_float_str(value,sep='d',precision=2):\n",
    "    value=float(re.sub(sep,'.',str(value)))\n",
    "    return str(round(value,precision))\n",
    "\n",
    "\n",
    "def lonlat_strs(path,precision=2):\n",
    "    parts=path.split('/')[-1].split('_')\n",
    "    lon=parts[2]\n",
    "    lat=\"-\".join(parts[-1].split('_')[-1].split('-')[:-1])\n",
    "    return to_float_str(lon), to_float_str(lat)\n",
    "\n",
    "\n",
    "def block_id(path):\n",
    "    lon,lat=lonlat_strs(path)\n",
    "    lon=lon.split('.')[0]    \n",
    "    lat=lat.split('.')[0]\n",
    "    return f'block_{lon}_{lat}'\n",
    "\n",
    "\n",
    "def group_id(path):\n",
    "    lon,lat=lonlat_strs(path)\n",
    "    lon=lon.split('.')    \n",
    "    lat=lat.split('.')\n",
    "    return f'group_{lon[0]}.{lon[1][:2]}_{lat[0]}.{lat[1][:2]}'"
   ]
  },
  {
   "cell_type": "raw",
   "metadata": {},
   "source": [
    "NOTE: block_ids don't match if rounding after decimal, but this behavior is the correct one"
   ]
  },
  {
   "cell_type": "code",
   "execution_count": 4,
   "metadata": {},
   "outputs": [],
   "source": [
    "# DSET='https://storage.googleapis.com/surface-water-public/data/v1/datasets/surface-water.africa.master.csv'\n",
    "# _df=pd.read_csv(DSET)\n",
    "# r=_df.sample().iloc[0]\n",
    "# path=r.gsw_path\n",
    "# print((r.block_id,r.group_id)==(block_id(path), group_id(path)))\n",
    "# path,r.block_id,r.group_id,block_id(path), group_id(path)"
   ]
  },
  {
   "cell_type": "markdown",
   "metadata": {},
   "source": [
    "---"
   ]
  },
  {
   "cell_type": "code",
   "execution_count": 5,
   "metadata": {},
   "outputs": [],
   "source": [
    "SIZE=512\n",
    "\n",
    "def win_quad(i,win_size,size=SIZE):\n",
    "    nb_cols=int(size/win_size)\n",
    "    col=i//nb_cols    \n",
    "    row=i-col*nb_cols\n",
    "    return (col*win_size,row*win_size,win_size,win_size)\n",
    "\n",
    "def get_windows(win_size,size=SIZE):\n",
    "    return [win_quad(i,win_size=win_size,size=size) for i in range(int(size/win_size)**2)]"
   ]
  },
  {
   "cell_type": "markdown",
   "metadata": {},
   "source": [
    "---"
   ]
  },
  {
   "cell_type": "code",
   "execution_count": 6,
   "metadata": {},
   "outputs": [],
   "source": [
    "LIMIT=None"
   ]
  },
  {
   "cell_type": "code",
   "execution_count": 7,
   "metadata": {},
   "outputs": [],
   "source": [
    "DSETS=['africa','africa_mtn','africa_small']\n",
    "BUCKET='surface-water-public'\n",
    "DATA_DIR='/DATA'\n",
    "JRC_FOLDER='jrc'\n",
    "S1_FOLDER='sentinel_1'\n",
    "JRC_DIR=f'{DATA_DIR}/data/v1/{JRC_FOLDER}'\n",
    "BANDS=['no_data','not_water','water']\n",
    "MAX_WATER=0.6\n",
    "MIN_WATER=0.005\n",
    "MAX_NODATA=0.3\n",
    "WIN_SIZES=[128,256,192]"
   ]
  },
  {
   "cell_type": "code",
   "execution_count": 8,
   "metadata": {},
   "outputs": [],
   "source": [
    "COLS=[\n",
    "    'gsw_path',\n",
    "    's1_path',\n",
    "    'block_id',\n",
    "    'group_id',\n",
    "    'water',\n",
    "    'not_water',\n",
    "    'no_data',\n",
    "    'dataset']\n",
    "\n",
    "WCOLS=[\n",
    "    'gsw_path',\n",
    "    's1_path',\n",
    "    'block_id',\n",
    "    'group_id',\n",
    "    'window_index',\n",
    "    'window',\n",
    "    'water',\n",
    "    'not_water',\n",
    "    'no_data',\n",
    "    'dataset']"
   ]
  },
  {
   "cell_type": "code",
   "execution_count": 9,
   "metadata": {},
   "outputs": [],
   "source": [
    "def hist(values,counts,nb_pixels):\n",
    "    _hist={ v: c for v,c in zip(values,counts)}\n",
    "    return { c: _hist.get(i,0)/nb_pixels for i,c in enumerate(BANDS) }\n",
    "\n",
    "\n",
    "def check_jrc_window(im,window=None):\n",
    "    if window:\n",
    "        x,y,w,h=window\n",
    "        im=im[:,y:y+h,x:x+w]\n",
    "    else:\n",
    "        h,w=im.shape[1:]\n",
    "    values,counts=np.unique(im,return_counts=True)\n",
    "    out={}\n",
    "    if len(values)>1:\n",
    "        h=hist(values,counts,w*h)\n",
    "        if h['no_data']<MAX_NODATA:\n",
    "            w=h['water']\n",
    "            if (w>=MIN_WATER) & (w<MAX_WATER):\n",
    "                out=h\n",
    "    return out   \n",
    "\n",
    "\n",
    "\n",
    "def get_row_data(im,path,window_index,window):\n",
    "    row=check_jrc_window(im,window)\n",
    "    if row:\n",
    "        row['gsw_path']=re.sub(f'^{DATA_DIR}',f'gs://{BUCKET}',str(path))\n",
    "        row['s1_path']=re.sub(f'/{JRC_FOLDER}/',f'/{S1_FOLDER}/',row['gsw_path'])\n",
    "        row['block_id']=block_id(row['gsw_path'])\n",
    "        row['group_id']=group_id(row['gsw_path'])\n",
    "        if window:\n",
    "            row['window_index']=window_index\n",
    "            row['window']=window\n",
    "    return row\n",
    "\n",
    "\n",
    "def proc_jrc(path,windows=None):\n",
    "    im=io.read(path,return_profile=False)\n",
    "    rows=[]\n",
    "    if windows:\n",
    "        return [get_row_data(im,path,i,w) for i,w in enumerate(windows)]\n",
    "    else:\n",
    "        return [get_row_data(im,path,False,False)]"
   ]
  },
  {
   "cell_type": "code",
   "execution_count": 10,
   "metadata": {},
   "outputs": [],
   "source": [
    "def proc_paths(paths,windows=None):\n",
    "    rows=[]\n",
    "    for p in paths:\n",
    "        rows+=proc_jrc(p,windows)\n",
    "    return [r for r in rows if r]"
   ]
  },
  {
   "cell_type": "code",
   "execution_count": 11,
   "metadata": {},
   "outputs": [],
   "source": [
    "def proc_datasets(windows,datasets=DSETS,limit=None):\n",
    "    dfs=[]\n",
    "    for d in datasets:\n",
    "        paths=list(Path(f'{JRC_DIR}/{d}').glob('*.tif'))\n",
    "        df=pd.DataFrame(proc_paths(paths[:limit],windows=windows))\n",
    "        df['dataset']=d\n",
    "        print(f'{d}: {len(paths)} => {df.shape[0]}')\n",
    "        dfs.append(df)\n",
    "    return pd.concat(dfs)  "
   ]
  },
  {
   "cell_type": "markdown",
   "metadata": {},
   "source": [
    "---"
   ]
  },
  {
   "cell_type": "code",
   "execution_count": 12,
   "metadata": {},
   "outputs": [
    {
     "name": "stdout",
     "output_type": "stream",
     "text": [
      "africa: 3393 => 2662\n",
      "africa_mtn: 2126 => 1711\n",
      "africa_small: 182 => 144\n",
      "CPU times: user 37.4 s, sys: 4.21 s, total: 41.6 s\n",
      "Wall time: 41.6 s\n",
      "----------------------------------------------------------------------------------------------------\n",
      "surface-water.africa.csv 4517\n",
      "----------------------------------------------------------------------------------------------------\n"
     ]
    },
    {
     "data": {
      "text/html": [
       "<div>\n",
       "<style scoped>\n",
       "    .dataframe tbody tr th:only-of-type {\n",
       "        vertical-align: middle;\n",
       "    }\n",
       "\n",
       "    .dataframe tbody tr th {\n",
       "        vertical-align: top;\n",
       "    }\n",
       "\n",
       "    .dataframe thead th {\n",
       "        text-align: right;\n",
       "    }\n",
       "</style>\n",
       "<table border=\"1\" class=\"dataframe\">\n",
       "  <thead>\n",
       "    <tr style=\"text-align: right;\">\n",
       "      <th></th>\n",
       "      <th>gsw_path</th>\n",
       "      <th>s1_path</th>\n",
       "      <th>block_id</th>\n",
       "      <th>group_id</th>\n",
       "      <th>water</th>\n",
       "      <th>not_water</th>\n",
       "      <th>no_data</th>\n",
       "      <th>dataset</th>\n",
       "    </tr>\n",
       "  </thead>\n",
       "  <tbody>\n",
       "    <tr>\n",
       "      <th>1268</th>\n",
       "      <td>gs://surface-water-public/data/v1/jrc/africa_m...</td>\n",
       "      <td>gs://surface-water-public/data/v1/sentinel_1/a...</td>\n",
       "      <td>block_29_-30</td>\n",
       "      <td>group_29.37_-30.23</td>\n",
       "      <td>0.040672</td>\n",
       "      <td>0.940563</td>\n",
       "      <td>0.018764</td>\n",
       "      <td>africa_mtn</td>\n",
       "    </tr>\n",
       "    <tr>\n",
       "      <th>1083</th>\n",
       "      <td>gs://surface-water-public/data/v1/jrc/africa_m...</td>\n",
       "      <td>gs://surface-water-public/data/v1/sentinel_1/a...</td>\n",
       "      <td>block_29_-28</td>\n",
       "      <td>group_29.51_-28.72</td>\n",
       "      <td>0.007500</td>\n",
       "      <td>0.922077</td>\n",
       "      <td>0.070423</td>\n",
       "      <td>africa_mtn</td>\n",
       "    </tr>\n",
       "    <tr>\n",
       "      <th>346</th>\n",
       "      <td>gs://surface-water-public/data/v1/jrc/africa/G...</td>\n",
       "      <td>gs://surface-water-public/data/v1/sentinel_1/a...</td>\n",
       "      <td>block_32_-24</td>\n",
       "      <td>group_32.66_-24.1</td>\n",
       "      <td>0.039181</td>\n",
       "      <td>0.960762</td>\n",
       "      <td>0.000057</td>\n",
       "      <td>africa</td>\n",
       "    </tr>\n",
       "  </tbody>\n",
       "</table>\n",
       "</div>"
      ],
      "text/plain": [
       "                                               gsw_path  \\\n",
       "1268  gs://surface-water-public/data/v1/jrc/africa_m...   \n",
       "1083  gs://surface-water-public/data/v1/jrc/africa_m...   \n",
       "346   gs://surface-water-public/data/v1/jrc/africa/G...   \n",
       "\n",
       "                                                s1_path      block_id  \\\n",
       "1268  gs://surface-water-public/data/v1/sentinel_1/a...  block_29_-30   \n",
       "1083  gs://surface-water-public/data/v1/sentinel_1/a...  block_29_-28   \n",
       "346   gs://surface-water-public/data/v1/sentinel_1/a...  block_32_-24   \n",
       "\n",
       "                group_id     water  not_water   no_data     dataset  \n",
       "1268  group_29.37_-30.23  0.040672   0.940563  0.018764  africa_mtn  \n",
       "1083  group_29.51_-28.72  0.007500   0.922077  0.070423  africa_mtn  \n",
       "346    group_32.66_-24.1  0.039181   0.960762  0.000057      africa  "
      ]
     },
     "execution_count": 12,
     "metadata": {},
     "output_type": "execute_result"
    }
   ],
   "source": [
    "%time df=proc_datasets(None,limit=LIMIT)[COLS]\n",
    "path='surface-water.africa.csv'\n",
    "df.to_csv(path,index=False)\n",
    "print('-'*100)\n",
    "print(path,df.shape[0])\n",
    "print('-'*100)\n",
    "df.sample(3)"
   ]
  },
  {
   "cell_type": "markdown",
   "metadata": {},
   "source": [
    "---"
   ]
  },
  {
   "cell_type": "code",
   "execution_count": 13,
   "metadata": {},
   "outputs": [
    {
     "name": "stdout",
     "output_type": "stream",
     "text": [
      "africa: 3393 => 14752\n",
      "africa_mtn: 2126 => 9235\n",
      "africa_small: 182 => 775\n",
      "CPU times: user 36.1 s, sys: 4.4 s, total: 40.5 s\n",
      "Wall time: 40.5 s\n",
      "----------------------------------------------------------------------------------------------------\n",
      "surface-water.africa.win128.csv 24762\n",
      "----------------------------------------------------------------------------------------------------\n"
     ]
    },
    {
     "data": {
      "text/html": [
       "<div>\n",
       "<style scoped>\n",
       "    .dataframe tbody tr th:only-of-type {\n",
       "        vertical-align: middle;\n",
       "    }\n",
       "\n",
       "    .dataframe tbody tr th {\n",
       "        vertical-align: top;\n",
       "    }\n",
       "\n",
       "    .dataframe thead th {\n",
       "        text-align: right;\n",
       "    }\n",
       "</style>\n",
       "<table border=\"1\" class=\"dataframe\">\n",
       "  <thead>\n",
       "    <tr style=\"text-align: right;\">\n",
       "      <th></th>\n",
       "      <th>gsw_path</th>\n",
       "      <th>s1_path</th>\n",
       "      <th>block_id</th>\n",
       "      <th>group_id</th>\n",
       "      <th>window_index</th>\n",
       "      <th>window</th>\n",
       "      <th>water</th>\n",
       "      <th>not_water</th>\n",
       "      <th>no_data</th>\n",
       "      <th>dataset</th>\n",
       "    </tr>\n",
       "  </thead>\n",
       "  <tbody>\n",
       "    <tr>\n",
       "      <th>424</th>\n",
       "      <td>gs://surface-water-public/data/v1/jrc/africa/G...</td>\n",
       "      <td>gs://surface-water-public/data/v1/sentinel_1/a...</td>\n",
       "      <td>block_1_33</td>\n",
       "      <td>group_1.61_33.33</td>\n",
       "      <td>13</td>\n",
       "      <td>(384, 128, 128, 128)</td>\n",
       "      <td>0.008301</td>\n",
       "      <td>0.978760</td>\n",
       "      <td>0.012939</td>\n",
       "      <td>africa</td>\n",
       "    </tr>\n",
       "    <tr>\n",
       "      <th>65</th>\n",
       "      <td>gs://surface-water-public/data/v1/jrc/africa/G...</td>\n",
       "      <td>gs://surface-water-public/data/v1/sentinel_1/a...</td>\n",
       "      <td>block_26_-27</td>\n",
       "      <td>group_26.46_-27.21</td>\n",
       "      <td>11</td>\n",
       "      <td>(256, 384, 128, 128)</td>\n",
       "      <td>0.082458</td>\n",
       "      <td>0.914429</td>\n",
       "      <td>0.003113</td>\n",
       "      <td>africa</td>\n",
       "    </tr>\n",
       "    <tr>\n",
       "      <th>6297</th>\n",
       "      <td>gs://surface-water-public/data/v1/jrc/africa_m...</td>\n",
       "      <td>gs://surface-water-public/data/v1/sentinel_1/a...</td>\n",
       "      <td>block_29_-28</td>\n",
       "      <td>group_29.56_-28.9</td>\n",
       "      <td>7</td>\n",
       "      <td>(128, 384, 128, 128)</td>\n",
       "      <td>0.022949</td>\n",
       "      <td>0.976135</td>\n",
       "      <td>0.000916</td>\n",
       "      <td>africa_mtn</td>\n",
       "    </tr>\n",
       "  </tbody>\n",
       "</table>\n",
       "</div>"
      ],
      "text/plain": [
       "                                               gsw_path  \\\n",
       "424   gs://surface-water-public/data/v1/jrc/africa/G...   \n",
       "65    gs://surface-water-public/data/v1/jrc/africa/G...   \n",
       "6297  gs://surface-water-public/data/v1/jrc/africa_m...   \n",
       "\n",
       "                                                s1_path      block_id  \\\n",
       "424   gs://surface-water-public/data/v1/sentinel_1/a...    block_1_33   \n",
       "65    gs://surface-water-public/data/v1/sentinel_1/a...  block_26_-27   \n",
       "6297  gs://surface-water-public/data/v1/sentinel_1/a...  block_29_-28   \n",
       "\n",
       "                group_id  window_index                window     water  \\\n",
       "424     group_1.61_33.33            13  (384, 128, 128, 128)  0.008301   \n",
       "65    group_26.46_-27.21            11  (256, 384, 128, 128)  0.082458   \n",
       "6297   group_29.56_-28.9             7  (128, 384, 128, 128)  0.022949   \n",
       "\n",
       "      not_water   no_data     dataset  \n",
       "424    0.978760  0.012939      africa  \n",
       "65     0.914429  0.003113      africa  \n",
       "6297   0.976135  0.000916  africa_mtn  "
      ]
     },
     "execution_count": 13,
     "metadata": {},
     "output_type": "execute_result"
    }
   ],
   "source": [
    "WSIZE=128\n",
    "%time df=proc_datasets(get_windows(WSIZE),limit=LIMIT)[WCOLS]\n",
    "path=f'surface-water.africa.win{WSIZE}.csv'\n",
    "df.to_csv(path,index=False)\n",
    "print('-'*100)\n",
    "print(path,df.shape[0])\n",
    "print('-'*100)\n",
    "df.sample(3)"
   ]
  },
  {
   "cell_type": "code",
   "execution_count": 14,
   "metadata": {},
   "outputs": [
    {
     "name": "stdout",
     "output_type": "stream",
     "text": [
      "africa: 3393 => 6198\n",
      "africa_mtn: 2126 => 3923\n",
      "africa_small: 182 => 337\n",
      "CPU times: user 35.3 s, sys: 4.08 s, total: 39.4 s\n",
      "Wall time: 39.4 s\n",
      "----------------------------------------------------------------------------------------------------\n",
      "surface-water.africa.win256.csv 10458\n",
      "----------------------------------------------------------------------------------------------------\n"
     ]
    },
    {
     "data": {
      "text/html": [
       "<div>\n",
       "<style scoped>\n",
       "    .dataframe tbody tr th:only-of-type {\n",
       "        vertical-align: middle;\n",
       "    }\n",
       "\n",
       "    .dataframe tbody tr th {\n",
       "        vertical-align: top;\n",
       "    }\n",
       "\n",
       "    .dataframe thead th {\n",
       "        text-align: right;\n",
       "    }\n",
       "</style>\n",
       "<table border=\"1\" class=\"dataframe\">\n",
       "  <thead>\n",
       "    <tr style=\"text-align: right;\">\n",
       "      <th></th>\n",
       "      <th>gsw_path</th>\n",
       "      <th>s1_path</th>\n",
       "      <th>block_id</th>\n",
       "      <th>group_id</th>\n",
       "      <th>window_index</th>\n",
       "      <th>window</th>\n",
       "      <th>water</th>\n",
       "      <th>not_water</th>\n",
       "      <th>no_data</th>\n",
       "      <th>dataset</th>\n",
       "    </tr>\n",
       "  </thead>\n",
       "  <tbody>\n",
       "    <tr>\n",
       "      <th>4249</th>\n",
       "      <td>gs://surface-water-public/data/v1/jrc/africa/G...</td>\n",
       "      <td>gs://surface-water-public/data/v1/sentinel_1/a...</td>\n",
       "      <td>block_31_-23</td>\n",
       "      <td>group_31.87_-23.98</td>\n",
       "      <td>2</td>\n",
       "      <td>(256, 0, 256, 256)</td>\n",
       "      <td>0.032852</td>\n",
       "      <td>0.962296</td>\n",
       "      <td>0.004852</td>\n",
       "      <td>africa</td>\n",
       "    </tr>\n",
       "    <tr>\n",
       "      <th>87</th>\n",
       "      <td>gs://surface-water-public/data/v1/jrc/africa_m...</td>\n",
       "      <td>gs://surface-water-public/data/v1/sentinel_1/a...</td>\n",
       "      <td>block_28_-30</td>\n",
       "      <td>group_28.05_-30.1</td>\n",
       "      <td>2</td>\n",
       "      <td>(256, 0, 256, 256)</td>\n",
       "      <td>0.038147</td>\n",
       "      <td>0.959793</td>\n",
       "      <td>0.002060</td>\n",
       "      <td>africa_mtn</td>\n",
       "    </tr>\n",
       "    <tr>\n",
       "      <th>925</th>\n",
       "      <td>gs://surface-water-public/data/v1/jrc/africa/G...</td>\n",
       "      <td>gs://surface-water-public/data/v1/sentinel_1/a...</td>\n",
       "      <td>block_-6_32</td>\n",
       "      <td>group_-6.34_32.1</td>\n",
       "      <td>0</td>\n",
       "      <td>(0, 0, 256, 256)</td>\n",
       "      <td>0.093338</td>\n",
       "      <td>0.906662</td>\n",
       "      <td>0.000000</td>\n",
       "      <td>africa</td>\n",
       "    </tr>\n",
       "  </tbody>\n",
       "</table>\n",
       "</div>"
      ],
      "text/plain": [
       "                                               gsw_path  \\\n",
       "4249  gs://surface-water-public/data/v1/jrc/africa/G...   \n",
       "87    gs://surface-water-public/data/v1/jrc/africa_m...   \n",
       "925   gs://surface-water-public/data/v1/jrc/africa/G...   \n",
       "\n",
       "                                                s1_path      block_id  \\\n",
       "4249  gs://surface-water-public/data/v1/sentinel_1/a...  block_31_-23   \n",
       "87    gs://surface-water-public/data/v1/sentinel_1/a...  block_28_-30   \n",
       "925   gs://surface-water-public/data/v1/sentinel_1/a...   block_-6_32   \n",
       "\n",
       "                group_id  window_index              window     water  \\\n",
       "4249  group_31.87_-23.98             2  (256, 0, 256, 256)  0.032852   \n",
       "87     group_28.05_-30.1             2  (256, 0, 256, 256)  0.038147   \n",
       "925     group_-6.34_32.1             0    (0, 0, 256, 256)  0.093338   \n",
       "\n",
       "      not_water   no_data     dataset  \n",
       "4249   0.962296  0.004852      africa  \n",
       "87     0.959793  0.002060  africa_mtn  \n",
       "925    0.906662  0.000000      africa  "
      ]
     },
     "execution_count": 14,
     "metadata": {},
     "output_type": "execute_result"
    }
   ],
   "source": [
    "WSIZE=256\n",
    "%time df=proc_datasets(get_windows(WSIZE),limit=LIMIT)[WCOLS]\n",
    "path=f'surface-water.africa.win{WSIZE}.csv'\n",
    "df.to_csv(path,index=False)\n",
    "print('-'*100)\n",
    "print(path,df.shape[0])\n",
    "print('-'*100)\n",
    "df.sample(3)\n",
    "df.sample(3)"
   ]
  },
  {
   "cell_type": "code",
   "execution_count": 15,
   "metadata": {},
   "outputs": [
    {
     "name": "stdout",
     "output_type": "stream",
     "text": [
      "africa: 3393 => 5208\n",
      "africa_mtn: 2126 => 3210\n",
      "africa_small: 182 => 290\n",
      "CPU times: user 26.1 s, sys: 4.1 s, total: 30.2 s\n",
      "Wall time: 30.2 s\n",
      "----------------------------------------------------------------------------------------------------\n",
      "surface-water.africa.win192.csv 8708\n",
      "----------------------------------------------------------------------------------------------------\n"
     ]
    },
    {
     "data": {
      "text/html": [
       "<div>\n",
       "<style scoped>\n",
       "    .dataframe tbody tr th:only-of-type {\n",
       "        vertical-align: middle;\n",
       "    }\n",
       "\n",
       "    .dataframe tbody tr th {\n",
       "        vertical-align: top;\n",
       "    }\n",
       "\n",
       "    .dataframe thead th {\n",
       "        text-align: right;\n",
       "    }\n",
       "</style>\n",
       "<table border=\"1\" class=\"dataframe\">\n",
       "  <thead>\n",
       "    <tr style=\"text-align: right;\">\n",
       "      <th></th>\n",
       "      <th>gsw_path</th>\n",
       "      <th>s1_path</th>\n",
       "      <th>block_id</th>\n",
       "      <th>group_id</th>\n",
       "      <th>window_index</th>\n",
       "      <th>window</th>\n",
       "      <th>water</th>\n",
       "      <th>not_water</th>\n",
       "      <th>no_data</th>\n",
       "      <th>dataset</th>\n",
       "    </tr>\n",
       "  </thead>\n",
       "  <tbody>\n",
       "    <tr>\n",
       "      <th>5171</th>\n",
       "      <td>gs://surface-water-public/data/v1/jrc/africa/G...</td>\n",
       "      <td>gs://surface-water-public/data/v1/sentinel_1/a...</td>\n",
       "      <td>block_30_7</td>\n",
       "      <td>group_30.58_7.62</td>\n",
       "      <td>2</td>\n",
       "      <td>(192, 0, 192, 192)</td>\n",
       "      <td>0.459635</td>\n",
       "      <td>0.358426</td>\n",
       "      <td>0.181939</td>\n",
       "      <td>africa</td>\n",
       "    </tr>\n",
       "    <tr>\n",
       "      <th>63</th>\n",
       "      <td>gs://surface-water-public/data/v1/jrc/africa_s...</td>\n",
       "      <td>gs://surface-water-public/data/v1/sentinel_1/a...</td>\n",
       "      <td>block_20_-34</td>\n",
       "      <td>group_20.42_-34.06</td>\n",
       "      <td>1</td>\n",
       "      <td>(0, 192, 192, 192)</td>\n",
       "      <td>0.015191</td>\n",
       "      <td>0.979953</td>\n",
       "      <td>0.004856</td>\n",
       "      <td>africa_small</td>\n",
       "    </tr>\n",
       "    <tr>\n",
       "      <th>4517</th>\n",
       "      <td>gs://surface-water-public/data/v1/jrc/africa/G...</td>\n",
       "      <td>gs://surface-water-public/data/v1/sentinel_1/a...</td>\n",
       "      <td>block_27_-22</td>\n",
       "      <td>group_27.55_-22.59</td>\n",
       "      <td>2</td>\n",
       "      <td>(192, 0, 192, 192)</td>\n",
       "      <td>0.377903</td>\n",
       "      <td>0.620307</td>\n",
       "      <td>0.001790</td>\n",
       "      <td>africa</td>\n",
       "    </tr>\n",
       "  </tbody>\n",
       "</table>\n",
       "</div>"
      ],
      "text/plain": [
       "                                               gsw_path  \\\n",
       "5171  gs://surface-water-public/data/v1/jrc/africa/G...   \n",
       "63    gs://surface-water-public/data/v1/jrc/africa_s...   \n",
       "4517  gs://surface-water-public/data/v1/jrc/africa/G...   \n",
       "\n",
       "                                                s1_path      block_id  \\\n",
       "5171  gs://surface-water-public/data/v1/sentinel_1/a...    block_30_7   \n",
       "63    gs://surface-water-public/data/v1/sentinel_1/a...  block_20_-34   \n",
       "4517  gs://surface-water-public/data/v1/sentinel_1/a...  block_27_-22   \n",
       "\n",
       "                group_id  window_index              window     water  \\\n",
       "5171    group_30.58_7.62             2  (192, 0, 192, 192)  0.459635   \n",
       "63    group_20.42_-34.06             1  (0, 192, 192, 192)  0.015191   \n",
       "4517  group_27.55_-22.59             2  (192, 0, 192, 192)  0.377903   \n",
       "\n",
       "      not_water   no_data       dataset  \n",
       "5171   0.358426  0.181939        africa  \n",
       "63     0.979953  0.004856  africa_small  \n",
       "4517   0.620307  0.001790        africa  "
      ]
     },
     "execution_count": 15,
     "metadata": {},
     "output_type": "execute_result"
    }
   ],
   "source": [
    "WSIZE=192\n",
    "%time df=proc_datasets(get_windows(WSIZE),limit=LIMIT)[WCOLS]\n",
    "path=f'surface-water.africa.win{WSIZE}.csv'\n",
    "df.to_csv(path,index=False)\n",
    "print('-'*100)\n",
    "print(path,df.shape[0])\n",
    "print('-'*100)\n",
    "df.sample(3)"
   ]
  },
  {
   "cell_type": "markdown",
   "metadata": {},
   "source": [
    "---\n",
    "\n",
    "---\n",
    "\n",
    "##### GCS UPLOAD/CLEANUP\n",
    "\n",
    "---\n",
    "\n",
    "---"
   ]
  },
  {
   "cell_type": "code",
   "execution_count": 16,
   "metadata": {},
   "outputs": [],
   "source": [
    "# !gsutil mv gs://surface-water-public/data/v1/datasets gs://surface-water-public/data/v1/gee_output_datasets"
   ]
  },
  {
   "cell_type": "code",
   "execution_count": 17,
   "metadata": {},
   "outputs": [
    {
     "name": "stdout",
     "output_type": "stream",
     "text": [
      "Copying file://surface-water.africa.csv [Content-Type=text/csv]...\n",
      "Copying file://surface-water.africa.win128.csv [Content-Type=text/csv]...       \n",
      "Copying file://surface-water.africa.win192.csv [Content-Type=text/csv]...       \n",
      "Copying file://surface-water.africa.win256.csv [Content-Type=text/csv]...       \n",
      "- [4 files][ 14.4 MiB/ 14.4 MiB]                                                \n",
      "Operation completed over 4 objects/14.4 MiB.                                     \n"
     ]
    }
   ],
   "source": [
    "!gsutil cp *.csv gs://surface-water-public/data/v1/datasets"
   ]
  }
 ],
 "metadata": {
  "environment": {
   "name": "tf2-gpu.2-1.m48",
   "type": "gcloud",
   "uri": "gcr.io/deeplearning-platform-release/tf2-gpu.2-1:m48"
  },
  "kernelspec": {
   "display_name": "Python 3",
   "language": "python",
   "name": "python3"
  },
  "language_info": {
   "codemirror_mode": {
    "name": "ipython",
    "version": 3
   },
   "file_extension": ".py",
   "mimetype": "text/x-python",
   "name": "python",
   "nbconvert_exporter": "python",
   "pygments_lexer": "ipython3",
   "version": "3.7.6"
  }
 },
 "nbformat": 4,
 "nbformat_minor": 4
}
