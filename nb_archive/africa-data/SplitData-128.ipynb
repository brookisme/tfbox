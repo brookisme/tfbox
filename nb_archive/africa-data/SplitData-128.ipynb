{
 "cells": [
  {
   "cell_type": "markdown",
   "metadata": {},
   "source": [
    "### SPLIT AFRICA DATASET 128\n",
    "\n",
    "I re-ran this notebook until the split was reasonably even between train/validation/test. In a perfect split the `low-med-high rfracs` would all equal 1 and the `block split fracs` would equal the respective `group fracs`.  I am not too concerned with less validation data, but prefer that `water-tag=low` be well represented in both test and validation."
   ]
  },
  {
   "cell_type": "markdown",
   "metadata": {},
   "source": [
    "---"
   ]
  },
  {
   "cell_type": "code",
   "execution_count": 1,
   "metadata": {},
   "outputs": [],
   "source": [
    "import pandas as pd\n",
    "from random import sample"
   ]
  },
  {
   "cell_type": "code",
   "execution_count": 2,
   "metadata": {},
   "outputs": [],
   "source": [
    "WSIZE=128\n",
    "DSET=f'surface-water.africa.win{WSIZE}'\n",
    "NO_DATA_MAX=0.05\n",
    "IDENTS=['group_id','window_index']"
   ]
  },
  {
   "cell_type": "code",
   "execution_count": 3,
   "metadata": {},
   "outputs": [
    {
     "name": "stdout",
     "output_type": "stream",
     "text": [
      "24762 684 24338\n",
      "21278 644 20929\n"
     ]
    },
    {
     "data": {
      "text/html": [
       "<div>\n",
       "<style scoped>\n",
       "    .dataframe tbody tr th:only-of-type {\n",
       "        vertical-align: middle;\n",
       "    }\n",
       "\n",
       "    .dataframe tbody tr th {\n",
       "        vertical-align: top;\n",
       "    }\n",
       "\n",
       "    .dataframe thead th {\n",
       "        text-align: right;\n",
       "    }\n",
       "</style>\n",
       "<table border=\"1\" class=\"dataframe\">\n",
       "  <thead>\n",
       "    <tr style=\"text-align: right;\">\n",
       "      <th></th>\n",
       "      <th>gsw_path</th>\n",
       "      <th>s1_path</th>\n",
       "      <th>block_id</th>\n",
       "      <th>group_id</th>\n",
       "      <th>window_index</th>\n",
       "      <th>window</th>\n",
       "      <th>water</th>\n",
       "      <th>not_water</th>\n",
       "      <th>no_data</th>\n",
       "      <th>dataset</th>\n",
       "    </tr>\n",
       "  </thead>\n",
       "  <tbody>\n",
       "    <tr>\n",
       "      <th>21563</th>\n",
       "      <td>gs://surface-water-public/data/v1/jrc/africa_m...</td>\n",
       "      <td>gs://surface-water-public/data/v1/sentinel_1/a...</td>\n",
       "      <td>block_18_-33</td>\n",
       "      <td>group_18.17_-33.29</td>\n",
       "      <td>3</td>\n",
       "      <td>(0, 384, 128, 128)</td>\n",
       "      <td>0.513733</td>\n",
       "      <td>0.444702</td>\n",
       "      <td>0.041565</td>\n",
       "      <td>africa_mtn</td>\n",
       "    </tr>\n",
       "    <tr>\n",
       "      <th>21143</th>\n",
       "      <td>gs://surface-water-public/data/v1/jrc/africa_m...</td>\n",
       "      <td>gs://surface-water-public/data/v1/sentinel_1/a...</td>\n",
       "      <td>block_20_-34</td>\n",
       "      <td>group_20.42_-34.06</td>\n",
       "      <td>7</td>\n",
       "      <td>(128, 384, 128, 128)</td>\n",
       "      <td>0.006531</td>\n",
       "      <td>0.993469</td>\n",
       "      <td>0.000000</td>\n",
       "      <td>africa_mtn</td>\n",
       "    </tr>\n",
       "    <tr>\n",
       "      <th>5063</th>\n",
       "      <td>gs://surface-water-public/data/v1/jrc/africa/G...</td>\n",
       "      <td>gs://surface-water-public/data/v1/sentinel_1/a...</td>\n",
       "      <td>block_25_-27</td>\n",
       "      <td>group_25.08_-27.97</td>\n",
       "      <td>14</td>\n",
       "      <td>(384, 256, 128, 128)</td>\n",
       "      <td>0.140076</td>\n",
       "      <td>0.849670</td>\n",
       "      <td>0.010254</td>\n",
       "      <td>africa</td>\n",
       "    </tr>\n",
       "  </tbody>\n",
       "</table>\n",
       "</div>"
      ],
      "text/plain": [
       "                                                gsw_path  \\\n",
       "21563  gs://surface-water-public/data/v1/jrc/africa_m...   \n",
       "21143  gs://surface-water-public/data/v1/jrc/africa_m...   \n",
       "5063   gs://surface-water-public/data/v1/jrc/africa/G...   \n",
       "\n",
       "                                                 s1_path      block_id  \\\n",
       "21563  gs://surface-water-public/data/v1/sentinel_1/a...  block_18_-33   \n",
       "21143  gs://surface-water-public/data/v1/sentinel_1/a...  block_20_-34   \n",
       "5063   gs://surface-water-public/data/v1/sentinel_1/a...  block_25_-27   \n",
       "\n",
       "                 group_id  window_index                window     water  \\\n",
       "21563  group_18.17_-33.29             3    (0, 384, 128, 128)  0.513733   \n",
       "21143  group_20.42_-34.06             7  (128, 384, 128, 128)  0.006531   \n",
       "5063   group_25.08_-27.97            14  (384, 256, 128, 128)  0.140076   \n",
       "\n",
       "       not_water   no_data     dataset  \n",
       "21563   0.444702  0.041565  africa_mtn  \n",
       "21143   0.993469  0.000000  africa_mtn  \n",
       "5063    0.849670  0.010254      africa  "
      ]
     },
     "execution_count": 3,
     "metadata": {},
     "output_type": "execute_result"
    }
   ],
   "source": [
    "df=pd.read_csv(f'{DSET}.csv')\n",
    "print(\n",
    "    df.shape[0],\n",
    "    df.drop_duplicates(subset=['block_id']).shape[0],\n",
    "    df.drop_duplicates(subset=IDENTS).shape[0])\n",
    "df=df[df.no_data<=NO_DATA_MAX]\n",
    "print(\n",
    "    df.shape[0],\n",
    "    df.drop_duplicates(subset=['block_id']).shape[0],\n",
    "    df.drop_duplicates(subset=IDENTS).shape[0])\n",
    "df.sample(3)"
   ]
  },
  {
   "cell_type": "markdown",
   "metadata": {},
   "source": [
    "---"
   ]
  },
  {
   "cell_type": "code",
   "execution_count": 4,
   "metadata": {},
   "outputs": [],
   "source": [
    "def water_counter(df,quantiles=[0.15,0.85],labels=['low','medium','high']):\n",
    "    wqs=[0]+[df.water.quantile(q) for q in quantiles]+[1+1e-8]\n",
    "    dfs=[]\n",
    "    for i,l in enumerate(labels):\n",
    "        _df=df.copy()[(df.water>=wqs[i])&(df.water<wqs[i+1])]\n",
    "        _df['water_tag']=l\n",
    "        dfs.append(_df)\n",
    "    return pd.concat(dfs).sample(frac=1)\n",
    "\n",
    "\n",
    "def split_groups(blocks,valid_frac=0.2,test_frac=0.1,hold_out_frac=0.2,relative_frac=True):\n",
    "    if relative_frac:\n",
    "        valid_frac=(1-hold_out_frac)*valid_frac\n",
    "        test_frac=(1-hold_out_frac)*test_frac\n",
    "    nb_blocks=len(blocks)\n",
    "    nb_valid=int(valid_frac*nb_blocks)    \n",
    "    nb_test=int(test_frac*nb_blocks)\n",
    "    nb_hold_out=int(hold_out_frac*nb_blocks)\n",
    "    blocks=sample(blocks,nb_blocks)\n",
    "    valid=blocks[:nb_valid]\n",
    "    test=blocks[nb_valid:nb_valid+nb_test]\n",
    "    hold_out=blocks[nb_valid+nb_test:nb_valid+nb_test+nb_hold_out]\n",
    "    train=blocks[nb_valid+nb_test+nb_hold_out:]\n",
    "    rtotal=len(train)+len(valid)+len(test)\n",
    "    print('block relative split:',len(train)/rtotal,len(valid)/rtotal,len(test)/rtotal,len(hold_out)/nb_blocks)\n",
    "    print('block split fracs:',len(train)/nb_blocks,len(valid)/nb_blocks,len(test)/nb_blocks,len(hold_out)/nb_blocks)\n",
    "    return train, valid, test, hold_out\n",
    "\n",
    "\n",
    "def sub_df(typ,df,blocks,cnt):\n",
    "    \n",
    "    sdf=df.copy()[df.block_id.isin(blocks)]\n",
    "    sdf['data_split']=typ\n",
    "    \n",
    "    sgcnt=sdf.drop_duplicates(subset=IDENTS).shape[0]\n",
    "    frac=sgcnt/cnt\n",
    "    \n",
    "    ltcnt=df[df.water_tag=='low'].shape[0]*frac\n",
    "    mtcnt=df[df.water_tag=='medium'].shape[0]*frac\n",
    "    htcnt=df[df.water_tag=='high'].shape[0]*frac\n",
    "    \n",
    "    sltcnt=sdf[sdf.water_tag=='low'].shape[0]\n",
    "    smtcnt=sdf[sdf.water_tag=='medium'].shape[0]\n",
    "    shtcnt=sdf[sdf.water_tag=='high'].shape[0]\n",
    "    print()\n",
    "    print(f'{typ} group:',frac,f'({sgcnt}/{cnt})  [{int(ltcnt)},{int(mtcnt)},{int(htcnt)}]')\n",
    "    print('* low-med-high rfracs:',sltcnt/ltcnt,smtcnt/mtcnt,shtcnt/htcnt)\n",
    "    return sdf\n",
    "    \n",
    "    \n",
    "def df_splitter(df,train, valid, test, hold_out):\n",
    "    cnt=df.drop_duplicates(subset=IDENTS).shape[0]\n",
    "    tdf=sub_df('train',df,train,cnt)    \n",
    "    vdf=sub_df('valid',df,valid,cnt)    \n",
    "    sdf=sub_df('test',df,test,cnt)    \n",
    "    hdf=sub_df('hold_out',df,hold_out,cnt)\n",
    "    df=pd.concat([tdf, vdf, sdf, hdf])\n",
    "    return df"
   ]
  },
  {
   "cell_type": "markdown",
   "metadata": {},
   "source": [
    "---"
   ]
  },
  {
   "cell_type": "code",
   "execution_count": 5,
   "metadata": {},
   "outputs": [],
   "source": [
    "df=water_counter(df)"
   ]
  },
  {
   "cell_type": "code",
   "execution_count": 6,
   "metadata": {},
   "outputs": [],
   "source": [
    "blocks=list(df.block_id.unique())"
   ]
  },
  {
   "cell_type": "code",
   "execution_count": 7,
   "metadata": {},
   "outputs": [
    {
     "name": "stdout",
     "output_type": "stream",
     "text": [
      "-------------------------------------------------------------------------------------\n",
      "block relative split: 0.7015503875968992 0.1996124031007752 0.09883720930232558 0.19875776397515527\n",
      "block split fracs: 0.562111801242236 0.15993788819875776 0.07919254658385093 0.19875776397515527\n",
      "-------------------------------------------------------------------------------------\n",
      "\n",
      "train group: 0.5799608199149505 (12138/20929)  [1839,8650,1851]\n",
      "* low-med-high rfracs: 1.0005134374227551 1.0198707599227501 0.9199264587155812\n",
      "\n",
      "valid group: 0.1500310573844904 (3140/20929)  [475,2237,478]\n",
      "* low-med-high rfracs: 1.0677911085132583 0.98806226792589 0.9918581286017593\n",
      "\n",
      "test group: 0.07664006880405179 (1604/20929)  [243,1143,244]\n",
      "* low-med-high rfracs: 0.9134837928829771 0.9876766765620311 1.1241232367077294\n",
      "\n",
      "hold_out group: 0.19336805389650724 (4047/20929)  [613,2884,617]\n",
      "* low-med-high rfracs: 0.9801521650720714 0.95454900063377 1.1972830364767861\n"
     ]
    }
   ],
   "source": [
    "print('-'*85)\n",
    "train, valid, test, hold_out=split_groups(blocks)\n",
    "print('-'*85)\n",
    "df=df_splitter(df, train, valid, test, hold_out)"
   ]
  },
  {
   "cell_type": "markdown",
   "metadata": {},
   "source": [
    "---"
   ]
  },
  {
   "cell_type": "code",
   "execution_count": 8,
   "metadata": {},
   "outputs": [
    {
     "data": {
      "text/html": [
       "<div>\n",
       "<style scoped>\n",
       "    .dataframe tbody tr th:only-of-type {\n",
       "        vertical-align: middle;\n",
       "    }\n",
       "\n",
       "    .dataframe tbody tr th {\n",
       "        vertical-align: top;\n",
       "    }\n",
       "\n",
       "    .dataframe thead th {\n",
       "        text-align: right;\n",
       "    }\n",
       "</style>\n",
       "<table border=\"1\" class=\"dataframe\">\n",
       "  <thead>\n",
       "    <tr style=\"text-align: right;\">\n",
       "      <th></th>\n",
       "      <th>gsw_path</th>\n",
       "      <th>s1_path</th>\n",
       "      <th>block_id</th>\n",
       "      <th>group_id</th>\n",
       "      <th>window_index</th>\n",
       "      <th>window</th>\n",
       "      <th>water</th>\n",
       "      <th>not_water</th>\n",
       "      <th>no_data</th>\n",
       "      <th>dataset</th>\n",
       "      <th>water_tag</th>\n",
       "      <th>data_split</th>\n",
       "    </tr>\n",
       "  </thead>\n",
       "  <tbody>\n",
       "    <tr>\n",
       "      <th>22502</th>\n",
       "      <td>gs://surface-water-public/data/v1/jrc/africa_m...</td>\n",
       "      <td>gs://surface-water-public/data/v1/sentinel_1/a...</td>\n",
       "      <td>block_31_-28</td>\n",
       "      <td>group_31.45_-28.76</td>\n",
       "      <td>6</td>\n",
       "      <td>(128, 256, 128, 128)</td>\n",
       "      <td>0.355713</td>\n",
       "      <td>0.644287</td>\n",
       "      <td>0.000000</td>\n",
       "      <td>africa_mtn</td>\n",
       "      <td>high</td>\n",
       "      <td>train</td>\n",
       "    </tr>\n",
       "    <tr>\n",
       "      <th>14574</th>\n",
       "      <td>gs://surface-water-public/data/v1/jrc/africa/G...</td>\n",
       "      <td>gs://surface-water-public/data/v1/sentinel_1/a...</td>\n",
       "      <td>block_28_-29</td>\n",
       "      <td>group_28.77_-29.67</td>\n",
       "      <td>11</td>\n",
       "      <td>(256, 384, 128, 128)</td>\n",
       "      <td>0.068237</td>\n",
       "      <td>0.931763</td>\n",
       "      <td>0.000000</td>\n",
       "      <td>africa</td>\n",
       "      <td>medium</td>\n",
       "      <td>train</td>\n",
       "    </tr>\n",
       "    <tr>\n",
       "      <th>4572</th>\n",
       "      <td>gs://surface-water-public/data/v1/jrc/africa/G...</td>\n",
       "      <td>gs://surface-water-public/data/v1/sentinel_1/a...</td>\n",
       "      <td>block_18_7</td>\n",
       "      <td>group_18.07_7.08</td>\n",
       "      <td>6</td>\n",
       "      <td>(128, 256, 128, 128)</td>\n",
       "      <td>0.114197</td>\n",
       "      <td>0.841309</td>\n",
       "      <td>0.044495</td>\n",
       "      <td>africa</td>\n",
       "      <td>medium</td>\n",
       "      <td>train</td>\n",
       "    </tr>\n",
       "  </tbody>\n",
       "</table>\n",
       "</div>"
      ],
      "text/plain": [
       "                                                gsw_path  \\\n",
       "22502  gs://surface-water-public/data/v1/jrc/africa_m...   \n",
       "14574  gs://surface-water-public/data/v1/jrc/africa/G...   \n",
       "4572   gs://surface-water-public/data/v1/jrc/africa/G...   \n",
       "\n",
       "                                                 s1_path      block_id  \\\n",
       "22502  gs://surface-water-public/data/v1/sentinel_1/a...  block_31_-28   \n",
       "14574  gs://surface-water-public/data/v1/sentinel_1/a...  block_28_-29   \n",
       "4572   gs://surface-water-public/data/v1/sentinel_1/a...    block_18_7   \n",
       "\n",
       "                 group_id  window_index                window     water  \\\n",
       "22502  group_31.45_-28.76             6  (128, 256, 128, 128)  0.355713   \n",
       "14574  group_28.77_-29.67            11  (256, 384, 128, 128)  0.068237   \n",
       "4572     group_18.07_7.08             6  (128, 256, 128, 128)  0.114197   \n",
       "\n",
       "       not_water   no_data     dataset water_tag data_split  \n",
       "22502   0.644287  0.000000  africa_mtn      high      train  \n",
       "14574   0.931763  0.000000      africa    medium      train  \n",
       "4572    0.841309  0.044495      africa    medium      train  "
      ]
     },
     "execution_count": 8,
     "metadata": {},
     "output_type": "execute_result"
    }
   ],
   "source": [
    "df.sample(3)"
   ]
  },
  {
   "cell_type": "code",
   "execution_count": 9,
   "metadata": {},
   "outputs": [
    {
     "name": "stdout",
     "output_type": "stream",
     "text": [
      "UPLOAD: gsutil cp surface-water.africa.win128.split.csv gs://surface-water-public/data/v1/datasets\n"
     ]
    }
   ],
   "source": [
    "file_name=f'{DSET}.split.csv'\n",
    "df.to_csv(file_name,index=False)\n",
    "print(f'UPLOAD: gsutil cp {file_name} gs://surface-water-public/data/v1/datasets')"
   ]
  },
  {
   "cell_type": "markdown",
   "metadata": {},
   "source": [
    "---"
   ]
  },
  {
   "cell_type": "code",
   "execution_count": 15,
   "metadata": {},
   "outputs": [],
   "source": [
    "# !gsutil cp surface-water.africa.win128.split.csv gs://surface-water-public/data/v1/datasets"
   ]
  },
  {
   "cell_type": "markdown",
   "metadata": {},
   "source": [
    "---"
   ]
  },
  {
   "cell_type": "markdown",
   "metadata": {},
   "source": [
    "##### WATER/NOT RATIO"
   ]
  },
  {
   "cell_type": "code",
   "execution_count": 11,
   "metadata": {},
   "outputs": [],
   "source": [
    "_df=df[df.data_split.isin(['train','valid'])]"
   ]
  },
  {
   "cell_type": "code",
   "execution_count": 12,
   "metadata": {},
   "outputs": [
    {
     "data": {
      "text/plain": [
       "7.067384919140698"
      ]
     },
     "execution_count": 12,
     "metadata": {},
     "output_type": "execute_result"
    }
   ],
   "source": [
    "_df.not_water.mean()/_df.water.mean()"
   ]
  },
  {
   "cell_type": "code",
   "execution_count": 13,
   "metadata": {},
   "outputs": [
    {
     "data": {
      "text/html": [
       "<div>\n",
       "<style scoped>\n",
       "    .dataframe tbody tr th:only-of-type {\n",
       "        vertical-align: middle;\n",
       "    }\n",
       "\n",
       "    .dataframe tbody tr th {\n",
       "        vertical-align: top;\n",
       "    }\n",
       "\n",
       "    .dataframe thead th {\n",
       "        text-align: right;\n",
       "    }\n",
       "</style>\n",
       "<table border=\"1\" class=\"dataframe\">\n",
       "  <thead>\n",
       "    <tr style=\"text-align: right;\">\n",
       "      <th></th>\n",
       "      <th>water</th>\n",
       "      <th>not_water</th>\n",
       "    </tr>\n",
       "  </thead>\n",
       "  <tbody>\n",
       "    <tr>\n",
       "      <th>count</th>\n",
       "      <td>15278.000000</td>\n",
       "      <td>15278.000000</td>\n",
       "    </tr>\n",
       "    <tr>\n",
       "      <th>mean</th>\n",
       "      <td>0.122895</td>\n",
       "      <td>0.872131</td>\n",
       "    </tr>\n",
       "    <tr>\n",
       "      <th>std</th>\n",
       "      <td>0.138083</td>\n",
       "      <td>0.138971</td>\n",
       "    </tr>\n",
       "    <tr>\n",
       "      <th>min</th>\n",
       "      <td>0.005005</td>\n",
       "      <td>0.370117</td>\n",
       "    </tr>\n",
       "    <tr>\n",
       "      <th>25%</th>\n",
       "      <td>0.024353</td>\n",
       "      <td>0.826477</td>\n",
       "    </tr>\n",
       "    <tr>\n",
       "      <th>50%</th>\n",
       "      <td>0.066711</td>\n",
       "      <td>0.927734</td>\n",
       "    </tr>\n",
       "    <tr>\n",
       "      <th>75%</th>\n",
       "      <td>0.168320</td>\n",
       "      <td>0.970520</td>\n",
       "    </tr>\n",
       "    <tr>\n",
       "      <th>max</th>\n",
       "      <td>0.599976</td>\n",
       "      <td>0.994995</td>\n",
       "    </tr>\n",
       "  </tbody>\n",
       "</table>\n",
       "</div>"
      ],
      "text/plain": [
       "              water     not_water\n",
       "count  15278.000000  15278.000000\n",
       "mean       0.122895      0.872131\n",
       "std        0.138083      0.138971\n",
       "min        0.005005      0.370117\n",
       "25%        0.024353      0.826477\n",
       "50%        0.066711      0.927734\n",
       "75%        0.168320      0.970520\n",
       "max        0.599976      0.994995"
      ]
     },
     "execution_count": 13,
     "metadata": {},
     "output_type": "execute_result"
    }
   ],
   "source": [
    "_df.drop_duplicates(subset=IDENTS)[['water','not_water']].describe()"
   ]
  },
  {
   "cell_type": "code",
   "execution_count": null,
   "metadata": {},
   "outputs": [],
   "source": []
  }
 ],
 "metadata": {
  "environment": {
   "name": "tf2-gpu.2-1.m48",
   "type": "gcloud",
   "uri": "gcr.io/deeplearning-platform-release/tf2-gpu.2-1:m48"
  },
  "kernelspec": {
   "display_name": "Python 3",
   "language": "python",
   "name": "python3"
  },
  "language_info": {
   "codemirror_mode": {
    "name": "ipython",
    "version": 3
   },
   "file_extension": ".py",
   "mimetype": "text/x-python",
   "name": "python",
   "nbconvert_exporter": "python",
   "pygments_lexer": "ipython3",
   "version": "3.7.6"
  }
 },
 "nbformat": 4,
 "nbformat_minor": 4
}
